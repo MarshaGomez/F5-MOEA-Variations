{
  "nbformat": 4,
  "nbformat_minor": 0,
  "metadata": {
    "colab": {
      "name": "Brachistochrone Curve.ipynb",
      "provenance": [],
      "collapsed_sections": [],
      "authorship_tag": "ABX9TyP+tzpNmq/Vw6jAuYlCYWTA",
      "include_colab_link": true
    },
    "kernelspec": {
      "name": "python3",
      "display_name": "Python 3"
    },
    "language_info": {
      "name": "python"
    }
  },
  "cells": [
    {
      "cell_type": "markdown",
      "metadata": {
        "id": "view-in-github",
        "colab_type": "text"
      },
      "source": [
        "<a href=\"https://colab.research.google.com/github/MarshaGomez/F5-MOEA-Variations/blob/main/examples/Brachistochrone_Curve.ipynb\" target=\"_parent\"><img src=\"https://colab.research.google.com/assets/colab-badge.svg\" alt=\"Open In Colab\"/></a>"
      ]
    },
    {
      "cell_type": "markdown",
      "source": [
        "# Drive permissions"
      ],
      "metadata": {
        "id": "tCIdhmrljaXj"
      }
    },
    {
      "cell_type": "code",
      "source": [
        "from google.colab import drive\n",
        "drive.mount('/content/gdrive', force_remount=True) "
      ],
      "metadata": {
        "colab": {
          "base_uri": "https://localhost:8080/"
        },
        "id": "QJw72RbBhYlm",
        "outputId": "691ca11f-6e1c-4b54-a103-8fb36774a7b3"
      },
      "execution_count": null,
      "outputs": [
        {
          "output_type": "stream",
          "name": "stdout",
          "text": [
            "Mounted at /content/gdrive\n"
          ]
        }
      ]
    },
    {
      "cell_type": "markdown",
      "source": [
        "# Imports and Global Values"
      ],
      "metadata": {
        "id": "cylixPOvjRwn"
      }
    },
    {
      "cell_type": "code",
      "execution_count": null,
      "metadata": {
        "colab": {
          "base_uri": "https://localhost:8080/"
        },
        "id": "BQzE8JTgdDrl",
        "outputId": "142571a1-2637-44c3-f558-d8421a3f338a"
      },
      "outputs": [
        {
          "output_type": "stream",
          "name": "stdout",
          "text": [
            "/content/gdrive/My Drive/Brachistochrone_Curve/MOEA Project/gifs/GD_Brach__2022-03-28\n",
            "/content/gdrive/My Drive/Brachistochrone_Curve/MOEA Project/misc_runs/GD_Brach__2022-03-28\n",
            "Done constants.py\n"
          ]
        }
      ],
      "source": [
        "import numpy as np\n",
        "import matplotlib.pyplot as plt\n",
        "import cv2\n",
        "import os\n",
        "\n",
        "from datetime import datetime, date\n",
        "from math import sqrt\n",
        "from scipy import integrate\n",
        "from scipy.interpolate import interp1d, UnivariateSpline\n",
        "from scipy.optimize import newton\n",
        "import numpy as np\n",
        "\n",
        "\"\"\"GLOBAL VARIABLES\"\"\"\n",
        "# Constant for setting figsize\n",
        "GOLDEN = (1 + 5 ** 0.5) / 2\n",
        "\n",
        "# DNA constants\n",
        "MUTATION_RATE = 0.25\n",
        "BASES = 10\n",
        "\n",
        "# Make the endpoints P1 and P2\n",
        "P1 = (0, 0)\n",
        "P2 = (2, -1)\n",
        "\n",
        "base_path = \"/content/gdrive/My Drive/Brachistochrone_Curve/MOEA Project\"\n",
        "counter = 0\n",
        "\n",
        "date_string = date.today()\n",
        "base_name = f'GD_Brach__{date_string}'\n",
        "gif_dir = os.path.join(base_path, \"gifs/\" + base_name)\n",
        "misc_runs_dir = os.path.join(base_path, \"misc_runs/\" + base_name)\n",
        "\n",
        "print(gif_dir)\n",
        "print(misc_runs_dir)\n",
        "\n",
        "try:\n",
        "  os.makedirs(gif_dir)\n",
        "  os.makedirs(misc_runs_dir)\n",
        "except OSError:\n",
        "  for f in os.listdir(gif_dir):\n",
        "    os.remove(os.path.join(gif_dir, f))\n",
        "\n",
        "try:\n",
        "  os.makedirs(misc_runs_dir)\n",
        "except OSError:\n",
        "  for f in os.listdir(misc_runs_dir):\n",
        "    os.remove(os.path.join(misc_runs_dir, f))\n",
        "\n",
        "\n",
        "print(\"Done constants.py\")"
      ]
    },
    {
      "cell_type": "markdown",
      "source": [
        "# Common functions"
      ],
      "metadata": {
        "id": "pzzouVB1lGm-"
      }
    },
    {
      "cell_type": "code",
      "source": [
        "def make_dir(fp_in, fp_out):\n",
        "  imgs = (Image.open(f) for f in sorted(glob.glob(fp_in)))\n",
        "  img = next(imgs)  # extract first image from iterator\n",
        "  img.save(fp=fp_out, format='GIF', append_images=imgs,\n",
        "          save_all=True, duration=400, loop=0)\n",
        "  \n",
        "def show_gif(fname):\n",
        "    import base64\n",
        "    from IPython import display\n",
        "    with open(fname, 'rb') as fd:\n",
        "        b64 = base64.b64encode(fd.read()).decode('ascii')\n",
        "    return display.HTML(f'<img src=\"data:image/gif;base64,{b64}\" />')\n",
        "\n",
        "print('Done common functions')"
      ],
      "metadata": {
        "colab": {
          "base_uri": "https://localhost:8080/"
        },
        "id": "80OL3E3TlAWL",
        "outputId": "08501a14-b4d2-4459-b267-6f4c05c32679"
      },
      "execution_count": null,
      "outputs": [
        {
          "output_type": "stream",
          "name": "stdout",
          "text": [
            "Done common functions\n"
          ]
        }
      ]
    },
    {
      "cell_type": "markdown",
      "source": [
        "# Genetic Algorithm Generation"
      ],
      "metadata": {
        "id": "b00wwykfjfzC"
      }
    },
    {
      "cell_type": "markdown",
      "source": [
        "## Linearly interpolate of two points"
      ],
      "metadata": {
        "id": "ViyRmnjZjmx6"
      }
    },
    {
      "cell_type": "code",
      "source": [
        "# Linearly interpolate the two points\n",
        "def linear():\n",
        "    x = [p[0] for p in [P1, P2]]\n",
        "    y = [p[1] for p in [P1, P2]]\n",
        "    f_linear = interp1d(x, y, kind='linear')\n",
        "    def dt(x):\n",
        "        return np.sqrt((1 + ((P2[1] - P1[1]) / (P2[0] - P1[0]))**2) / (-f_linear(x)))\n",
        "    T = integrate.quad(dt, a=P1[0], b=P2[0], limit=10)[0]\n",
        "    return f_linear, T\n",
        "\n",
        "def cycloid():\n",
        "    \"\"\"Return the path of Brachistochrone curve from (0,0) to (x2, y2).\n",
        "    The Brachistochrone curve is the path down which a bead will fall without\n",
        "    friction between two points in the least time (an arc of a cycloid).\n",
        "    It is returned as an array of N values of (x,y) between (0,0) and (x2,y2).\n",
        "    \"\"\"\n",
        "\n",
        "    # First find theta2 from (x2, y2) numerically (by Newton-Rapheson).\n",
        "    f = lambda theta: -P2[1]/P2[0] - (1-np.cos(theta))/(theta-np.sin(theta))\n",
        "    theta2 = newton(f, np.pi/2)\n",
        "\n",
        "    # The radius of the circle generating the cycloid.\n",
        "    R = -P2[1] / (1 - np.cos(theta2))\n",
        "\n",
        "    theta = np.linspace(0, theta2, 100)\n",
        "    x = R * (theta - np.sin(theta))\n",
        "    y = R * (1 - np.cos(theta))\n",
        "\n",
        "    # The time of travel\n",
        "    T = theta2 * np.sqrt(R)\n",
        "    return x, -y, T\n",
        "\n",
        "\"\"\"Constants\"\"\"\n",
        "f_linear, T_linear = linear()\n",
        "x, y, T_cycloid = cycloid()\n",
        "\n",
        "print(\"Done curves.py\")"
      ],
      "metadata": {
        "colab": {
          "base_uri": "https://localhost:8080/"
        },
        "id": "zWvBlUm9d9_f",
        "outputId": "f9d614f1-d31f-42d0-a468-281a569484b8"
      },
      "execution_count": null,
      "outputs": [
        {
          "output_type": "stream",
          "name": "stdout",
          "text": [
            "Done curves.py\n"
          ]
        }
      ]
    },
    {
      "cell_type": "markdown",
      "source": [
        "## DNA"
      ],
      "metadata": {
        "id": "_kCVKPibjvsU"
      }
    },
    {
      "cell_type": "code",
      "source": [
        "class DNA():\n",
        "    \"\"\"A class holding the function and geneology of a path.\"\"\"\n",
        "\n",
        "    def __init__(self, external_DNA=None, mutation_rate=MUTATION_RATE, bases=BASES):\n",
        "\n",
        "        # Constants\n",
        "        self.mutation_rate = MUTATION_RATE\n",
        "        self.bases = BASES\n",
        "\n",
        "        # Make a path\n",
        "        self.x = np.linspace(P1[0], P2[0], self.bases)\n",
        "        if external_DNA == None:\n",
        "            genes = self.intialize_DNA()\n",
        "        else:\n",
        "            genes = external_DNA\n",
        "\n",
        "        # Assign the x-coords, y-coods, and function as attributes\n",
        "        self.y = genes[0]\n",
        "        self.f = genes[1]\n",
        "\n",
        "    def intialize_DNA(self):\n",
        "        \"\"\"Returns a path for the particle to follow.\"\"\"\n",
        "\n",
        "        # Make the domain\n",
        "        y = [P1[1], P2[1]]\n",
        "        for coord in self.x[1:-1]:\n",
        "            y.insert(-1, f_linear(coord) + (-2 * np.random.uniform()))\n",
        "\n",
        "        # Iterpolate the data (x, y) to create the path\n",
        "        f = UnivariateSpline(self.x, y, k=4, s=0)\n",
        "\n",
        "        # Return x-coords, y-coords, and interpolated function\n",
        "        return [y, f]\n",
        "\n",
        "    def reproduce(self, partner):\n",
        "        \"\"\"Returns a genetic offspring of two paths.\"\"\"\n",
        "\n",
        "        # Create child's y-path\n",
        "        child_y = [P1[1], P2[1]]\n",
        "        for i in range(BASES - 2):\n",
        "            nucleotide = np.random.choice([self, partner]).y[i + 1]\n",
        "            child_y.insert(-1, nucleotide)\n",
        "\n",
        "        # Mutate the child's y-path\n",
        "        for coord in self.x[1:-1]:\n",
        "            # If the random float is less than the mutation rate, then that y-coord is random\n",
        "            if np.random.uniform() < self.mutation_rate:\n",
        "                child_y[i] = f_linear(coord) + (-10 * np.random.uniform())\n",
        "\n",
        "        # Return the interpolated child path\n",
        "        y = child_y\n",
        "        f = UnivariateSpline(self.x, y, k=4, s=0)\n",
        "\n",
        "        return [y, f]\n",
        "\n",
        "print(\"Done DNA.py\")"
      ],
      "metadata": {
        "colab": {
          "base_uri": "https://localhost:8080/"
        },
        "id": "rs8kEmiId95D",
        "outputId": "99685499-ea8e-4c6f-ab5d-3a680df1822c"
      },
      "execution_count": null,
      "outputs": [
        {
          "output_type": "stream",
          "name": "stdout",
          "text": [
            "Done DNA.py\n"
          ]
        }
      ]
    },
    {
      "cell_type": "markdown",
      "source": [
        "## Path"
      ],
      "metadata": {
        "id": "2HeaX2brjyQf"
      }
    },
    {
      "cell_type": "code",
      "source": [
        "class Path():\n",
        "    \"\"\"A class holding the attributes of an individual path.\"\"\"\n",
        "\n",
        "    def __init__(self, external_DNA=None):\n",
        "        \"\"\"Initialize the class.\"\"\"\n",
        "\n",
        "        # Make a path\n",
        "        if external_DNA == None:\n",
        "            self.dna = DNA()\n",
        "        else:\n",
        "            self.dna = DNA(external_DNA)\n",
        "\n",
        "    def evaluate(self):\n",
        "        \"\"\"Time required to traverse a path and error estimation.\"\"\"\n",
        "\n",
        "        # Differential time as a function of x\n",
        "        def dt(x):\n",
        "            return sqrt((1 + self.dna.f.derivative()(x)**2) / (-self.dna.f(x)))\n",
        "\n",
        "        # Integrate dt over the domain [0,1]\n",
        "        try:\n",
        "            T = integrate.quad(dt, a=P1[0], b=P2[0], limit=100)\n",
        "            self.time = T[0]\n",
        "            self.err = T[1]\n",
        "            self.is_valid = True\n",
        "        except:\n",
        "            self.time = -1\n",
        "            self.err = 0\n",
        "            self.is_valid = False\n",
        "\n",
        "    def evaluate_linear(self):\n",
        "        slope = lambda i: (self.dna.y[i+1] - self.dna.y[i])/(self.dna.x[i+1] - self.dna.x[i])\n",
        "        velocity = 0\n",
        "        self.time = 0\n",
        "\n",
        "        for i in range(BASES-1):\n",
        "            ds = 1 + slope(i)**2\n",
        "            v = velocity**2 + (self.dna.y[i] - self.dna.y[i+1])\n",
        "            velocity = (velocity**2 + (self.dna.y[i] - self.dna.y[i+1])) ** 0.5\n",
        "\n",
        "            self.time += (ds/v)**0.5 * (self.dna.x[i+1] - self.dna.x[i])\n",
        "            self.is_valid = True\n",
        "            self.err = 0\n",
        "\n",
        "print(\"Done Path.py\")"
      ],
      "metadata": {
        "colab": {
          "base_uri": "https://localhost:8080/"
        },
        "id": "mU-CIkPXeBpI",
        "outputId": "ff97e791-18c1-4969-886b-47af694cad66"
      },
      "execution_count": null,
      "outputs": [
        {
          "output_type": "stream",
          "name": "stdout",
          "text": [
            "Done Path.py\n"
          ]
        }
      ]
    },
    {
      "cell_type": "markdown",
      "source": [
        "## Population"
      ],
      "metadata": {
        "id": "l2lfIqZKj0PM"
      }
    },
    {
      "cell_type": "code",
      "source": [
        "class Population():\n",
        "    \"\"\"A class holding a population of paths.\"\"\"\n",
        "\n",
        "    def __init__(self, n_paths=10):\n",
        "\n",
        "        # Generate a specified number of paths\n",
        "        self.population_size = n_paths\n",
        "        self.population = [Path() for i in range(self.population_size)]\n",
        "\n",
        "        # Historical records\n",
        "        self.historical_fitness = []\n",
        "        self.historical_error = []\n",
        "        self.generation = 0\n",
        "\n",
        "    def evaluate(self):\n",
        "\n",
        "        # Path evaluation\n",
        "        self.fitness = []\n",
        "        self.error = []\n",
        "\n",
        "        for path in self.population:\n",
        "            path.evaluate_linear()\n",
        "            self.fitness.append(path.time)\n",
        "            self.error.append(path.err)\n",
        "\n",
        "        # Save the measurements\n",
        "        self.historical_fitness.append(self.fitness)\n",
        "        self.historical_error.append(self.error)\n",
        "\n",
        "    def assemble_pool(self):\n",
        "        \"\"\"Return a mating pool from the existing curves.\"\"\"\n",
        "\n",
        "        self.mating_pool = []\n",
        "        max_time = max(self.fitness)\n",
        "        best_time = np.inf\n",
        "\n",
        "        for i in range(self.population_size):\n",
        "\n",
        "            if self.population[i].is_valid:\n",
        "                if self.population[i].time < best_time:\n",
        "                    best_time = self.population[i].time\n",
        "                    self.generation_best = self.population[i]\n",
        "                n = int(max_time - self.population[i].time)\n",
        "            else:\n",
        "                continue\n",
        "\n",
        "            # Add n copies of the path to the mating pool\n",
        "            for j in range(n):\n",
        "                self.mating_pool.append(self.population[i])\n",
        "\n",
        "    def generate_offspring(self):\n",
        "        \"\"\"Return new curve from 2 offspring in the mating pool.\"\"\"\n",
        "\n",
        "        # Array for holding offspring paths\n",
        "        new_paths = [0] * self.population_size\n",
        "\n",
        "        for i in range(self.population_size):\n",
        "\n",
        "            # Randomly pick the y-coords from two parents\n",
        "            parent_A = np.random.choice(self.mating_pool)\n",
        "            parent_B = np.random.choice(self.mating_pool)\n",
        "\n",
        "            # Remove parent_A and parent_B from mating pool\n",
        "            # self.mating_pool.remove(parent_A)\n",
        "            # self.mating_pool.remove(parent_B)\n",
        "\n",
        "            # Create child using crossover function\n",
        "            child_DNA = parent_A.dna.reproduce(parent_B.dna)\n",
        "\n",
        "            # Add new rocket to next generation\n",
        "            new_paths[i] = Path(external_DNA=child_DNA)\n",
        "\n",
        "        self.population = new_paths\n",
        "\n",
        "    def next_generation(self):\n",
        "        self.evaluate()\n",
        "        self.assemble_pool()\n",
        "        self.generate_offspring()\n",
        "        self.generation += 1\n",
        "\n",
        "    def hist_fitness_and_error(self):\n",
        "        \"\"\"Return histograms of error and fitness.\"\"\"\n",
        "        fig, ax = plt.subplots(figsize=(6, 6 / GOLDEN),\n",
        "                               ncols=2, nrows=1)\n",
        "\n",
        "        # Plot 1: normalized fitness histogram\n",
        "        ax[0].hist(self.historical_fitness[self.generation-1])\n",
        "        ax[0].set_title('Fitness Scores')\n",
        "        ax[0].set_xlabel('Cost ' + r'($T$)')\n",
        "        ax[0].set_ylabel('Frequency')\n",
        "\n",
        "        # Plot 2: error histogram\n",
        "        ax[1].hist(self.historical_error[self.generation-1])\n",
        "        ax[1].set_title('Error')\n",
        "        ax[1].set_xscale('log')\n",
        "        ax[1].set_xlabel('Error estimate')\n",
        "        ax[1].set_ylabel('Frequency')\n",
        "\n",
        "        # Render\n",
        "        plt.suptitle(f'Generation {int(self.generation-1)}')\n",
        "        plt.tight_layout()\n",
        "        plt.savefig(f'{misc_runs_dir}/{int(self.generation-1)}.png')\n",
        "\n",
        "\n",
        "print(\"Done Population.py\")"
      ],
      "metadata": {
        "colab": {
          "base_uri": "https://localhost:8080/"
        },
        "id": "Q8UxODyQeD7V",
        "outputId": "061bc91d-f3c0-4761-e113-07b8b5780ae2"
      },
      "execution_count": null,
      "outputs": [
        {
          "output_type": "stream",
          "name": "stdout",
          "text": [
            "Done Population.py\n"
          ]
        }
      ]
    },
    {
      "cell_type": "markdown",
      "source": [
        "## Visualize"
      ],
      "metadata": {
        "id": "NbCv0Rwwj5Rz"
      }
    },
    {
      "cell_type": "code",
      "source": [
        "def visualize(path, generation, title=None):\n",
        "    \"\"\"Returns a plot of the interpolated path.\"\"\"\n",
        "\n",
        "    # A more granular domain\n",
        "    xnew = np.linspace(P1[0], P2[0], 1001)\n",
        "\n",
        "    # Plot setup\n",
        "    plt.plot(path.dna.x, path.dna.y, 'o')\n",
        "    plt.plot(xnew, path.dna.f(xnew), '--', label='Path')\n",
        "    plt.plot(xnew, [P1[1]] * len(xnew), label='Cutoff')\n",
        "    plt.plot(xnew, f_linear(xnew), label='Linear')\n",
        "    plt.plot(x, y, label='Cycloid')\n",
        "\n",
        "    # try:\n",
        "    #     plt.text(0.8, 0, str(path.time))\n",
        "    # except:\n",
        "    #     path.evaluate()\n",
        "    #     plt.text(0.8, 0, str(path.time))\n",
        "    # plt.text(0.8, -0.5, str(T))\n",
        "\n",
        "    # Plot titles\n",
        "    plt.title(title)\n",
        "    plt.xlabel('x')\n",
        "    plt.ylabel('y')\n",
        "    # plt.legend()\n",
        "\n",
        "    # Render\n",
        "    # plt.show(block=False)\n",
        "    plt.savefig(f'{gif_dir}/{generation}.png')\n",
        "\n",
        "\n",
        "print(\"Done visualize.py\")"
      ],
      "metadata": {
        "colab": {
          "base_uri": "https://localhost:8080/"
        },
        "id": "Jx1olpuoeIbz",
        "outputId": "b1ef7bb2-85fc-48a8-c48d-a018fa27ebc6"
      },
      "execution_count": null,
      "outputs": [
        {
          "output_type": "stream",
          "name": "stdout",
          "text": [
            "Done visualize.py\n"
          ]
        }
      ]
    },
    {
      "cell_type": "markdown",
      "source": [
        "# Genetic Algorithm execution"
      ],
      "metadata": {
        "id": "YCw_N3XikAWx"
      }
    },
    {
      "cell_type": "code",
      "source": [
        "\"\"\"GA HYPERPARAMETERS\"\"\"\n",
        "N_POPULATION = 25\n",
        "N_GENERATION = 5000\n",
        "RESULTS_SHOW_PERIOD =1\n",
        "\"\"\"\"\"\"\"\"\"\"\"\"\"\"\"\"\"\"\n",
        "\n",
        "\n",
        "# test\n",
        "if __name__ == '__main__':\n",
        "\n",
        "    pop = Population(N_POPULATION)\n",
        "\n",
        "    for generation in range(N_GENERATION):\n",
        "        pop.next_generation()\n",
        "        if generation % RESULTS_SHOW_PERIOD == 0:\n",
        "            visualize(pop.generation_best, generation)\n",
        "\n",
        "        \"\"\"print(\"Generation: {} \\nBest time: {:.3f} | Average time: {:.3f} | Cycloid time: {:.3f}\".format(\n",
        "              generation, pop.generation_best.time, np.mean(pop.fitness), T_cycloid)\n",
        "              )\"\"\"\n",
        "\n",
        "        pop.hist_fitness_and_error()\n",
        "\n",
        "\n"
      ],
      "metadata": {
        "id": "mOqw96Ojd0RO"
      },
      "execution_count": null,
      "outputs": []
    },
    {
      "cell_type": "code",
      "source": [
        "# filepaths\n",
        "fp_in = gif_dir + \"/*.png\"\n",
        "fp_out = gif_dir + f'image{counter+1}.gif'\n",
        "make_dir(fp_in, fp_out)\n",
        "\n",
        "fp_in = misc_runs_dir + \"/*.png\"\n",
        "fp_out = misc_runs_dir + f'image{counter+1}.gif'\n",
        "make_dir(fp_in, fp_out)\n"
      ],
      "metadata": {
        "id": "eICkqMs6vqIK",
        "outputId": "e9e4f1f5-d2f6-41ea-f519-55dfaaf55c75",
        "colab": {
          "base_uri": "https://localhost:8080/",
          "height": 356
        }
      },
      "execution_count": null,
      "outputs": [
        {
          "output_type": "error",
          "ename": "UnboundLocalError",
          "evalue": "ignored",
          "traceback": [
            "\u001b[0;31m---------------------------------------------------------------------------\u001b[0m",
            "\u001b[0;31mUnboundLocalError\u001b[0m                         Traceback (most recent call last)",
            "\u001b[0;32m<ipython-input-75-76aec5d9e411>\u001b[0m in \u001b[0;36m<module>\u001b[0;34m()\u001b[0m\n\u001b[1;32m      2\u001b[0m \u001b[0mfp_in\u001b[0m \u001b[0;34m=\u001b[0m \u001b[0mgif_dir\u001b[0m \u001b[0;34m+\u001b[0m \u001b[0;34m\"/*.png\"\u001b[0m\u001b[0;34m\u001b[0m\u001b[0;34m\u001b[0m\u001b[0m\n\u001b[1;32m      3\u001b[0m \u001b[0mfp_out\u001b[0m \u001b[0;34m=\u001b[0m \u001b[0mgif_dir\u001b[0m \u001b[0;34m+\u001b[0m \u001b[0;34mf'image{counter+1}.gif'\u001b[0m\u001b[0;34m\u001b[0m\u001b[0;34m\u001b[0m\u001b[0m\n\u001b[0;32m----> 4\u001b[0;31m \u001b[0mmake_dir\u001b[0m\u001b[0;34m(\u001b[0m\u001b[0mfp_in\u001b[0m\u001b[0;34m,\u001b[0m \u001b[0mfp_out\u001b[0m\u001b[0;34m)\u001b[0m\u001b[0;34m\u001b[0m\u001b[0;34m\u001b[0m\u001b[0m\n\u001b[0m\u001b[1;32m      5\u001b[0m \u001b[0;34m\u001b[0m\u001b[0m\n\u001b[1;32m      6\u001b[0m \u001b[0mfp_in\u001b[0m \u001b[0;34m=\u001b[0m \u001b[0mmisc_runs_dir\u001b[0m \u001b[0;34m+\u001b[0m \u001b[0;34m\"/*.png\"\u001b[0m\u001b[0;34m\u001b[0m\u001b[0;34m\u001b[0m\u001b[0m\n",
            "\u001b[0;32m<ipython-input-68-68443d5f0c5e>\u001b[0m in \u001b[0;36mmake_dir\u001b[0;34m(fp_in, fp_out)\u001b[0m\n\u001b[1;32m      1\u001b[0m \u001b[0;32mdef\u001b[0m \u001b[0mmake_dir\u001b[0m\u001b[0;34m(\u001b[0m\u001b[0mfp_in\u001b[0m\u001b[0;34m,\u001b[0m \u001b[0mfp_out\u001b[0m\u001b[0;34m)\u001b[0m\u001b[0;34m:\u001b[0m\u001b[0;34m\u001b[0m\u001b[0;34m\u001b[0m\u001b[0m\n\u001b[0;32m----> 2\u001b[0;31m   \u001b[0mcounter\u001b[0m \u001b[0;34m+=\u001b[0m \u001b[0;36m1\u001b[0m\u001b[0;34m\u001b[0m\u001b[0;34m\u001b[0m\u001b[0m\n\u001b[0m\u001b[1;32m      3\u001b[0m   \u001b[0mimgs\u001b[0m \u001b[0;34m=\u001b[0m \u001b[0;34m(\u001b[0m\u001b[0mImage\u001b[0m\u001b[0;34m.\u001b[0m\u001b[0mopen\u001b[0m\u001b[0;34m(\u001b[0m\u001b[0mf\u001b[0m\u001b[0;34m)\u001b[0m \u001b[0;32mfor\u001b[0m \u001b[0mf\u001b[0m \u001b[0;32min\u001b[0m \u001b[0msorted\u001b[0m\u001b[0;34m(\u001b[0m\u001b[0mglob\u001b[0m\u001b[0;34m.\u001b[0m\u001b[0mglob\u001b[0m\u001b[0;34m(\u001b[0m\u001b[0mfp_in\u001b[0m\u001b[0;34m)\u001b[0m\u001b[0;34m)\u001b[0m\u001b[0;34m)\u001b[0m\u001b[0;34m\u001b[0m\u001b[0;34m\u001b[0m\u001b[0m\n\u001b[1;32m      4\u001b[0m   \u001b[0mimg\u001b[0m \u001b[0;34m=\u001b[0m \u001b[0mnext\u001b[0m\u001b[0;34m(\u001b[0m\u001b[0mimgs\u001b[0m\u001b[0;34m)\u001b[0m  \u001b[0;31m# extract first image from iterator\u001b[0m\u001b[0;34m\u001b[0m\u001b[0;34m\u001b[0m\u001b[0m\n\u001b[1;32m      5\u001b[0m   img.save(fp=fp_out, format='GIF', append_images=imgs,\n",
            "\u001b[0;31mUnboundLocalError\u001b[0m: local variable 'counter' referenced before assignment"
          ]
        }
      ]
    }
  ]
}
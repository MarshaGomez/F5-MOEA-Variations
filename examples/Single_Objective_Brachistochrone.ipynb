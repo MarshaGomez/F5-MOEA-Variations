{
  "cells": [
    {
      "cell_type": "markdown",
      "metadata": {
        "id": "view-in-github",
        "colab_type": "text"
      },
      "source": [
        "<a href=\"https://colab.research.google.com/github/MarshaGomez/F5-MOEA-Variations/blob/main/examples/Single_Objective_Brachistochrone.ipynb\" target=\"_parent\"><img src=\"https://colab.research.google.com/assets/colab-badge.svg\" alt=\"Open In Colab\"/></a>"
      ]
    },
    {
      "cell_type": "markdown",
      "source": [
        "# Single Objective. Brachistochrone Problem\n",
        "\n",
        "\n",
        "The Brachistochone is the famous problem to find the shape of the curve down wich a bead sliding from rest and accelerated by gravity will slip (**without friction**) from one point to another in the least time. \n",
        "\n",
        "\"The shortest path and the shortest time\""
      ],
      "metadata": {
        "id": "xBb56OP_tvYO"
      }
    },
    {
      "cell_type": "markdown",
      "metadata": {
        "id": "bFtmiXscVWij"
      },
      "source": [
        "## Base Operations"
      ]
    },
    {
      "cell_type": "code",
      "execution_count": null,
      "metadata": {
        "id": "_dJluD5gn0fS"
      },
      "outputs": [],
      "source": [
        "from google.colab import drive\n",
        "drive.mount('/content/gdrive', force_remount=True) "
      ]
    },
    {
      "cell_type": "code",
      "execution_count": null,
      "metadata": {
        "id": "nV4tkbx6l6CL"
      },
      "outputs": [],
      "source": [
        "import matplotlib.pyplot as plt\n",
        "import numpy as np\n",
        "import matplotlib.cm as mplcm\n",
        "import matplotlib.colors as colors\n",
        "import os\n",
        "import subprocess\n",
        "import torch\n",
        "import sys\n",
        "import torch.optim as optim\n",
        "import glob\n",
        "\n",
        "from pathlib import Path\n",
        "from PIL import Image, ImageSequence\n",
        "from time import sleep\n",
        "from datetime import datetime, date\n",
        "from math import sqrt,sin,cos, floor\n",
        "from scipy.optimize import fsolve\n",
        "from random import shuffle,randint,sample,random\n",
        "from copy import deepcopy"
      ]
    },
    {
      "cell_type": "markdown",
      "source": [
        "### Global Values"
      ],
      "metadata": {
        "id": "-6AlGlMZd5g0"
      }
    },
    {
      "cell_type": "code",
      "source": [
        "base_path = \"/content/gdrive/My Drive/Brachistochrone/MOEA Project/Single-Objective\"\n",
        "counter = 0\n",
        "\n",
        "date_string = date.today()\n",
        "base_name = f'GD_Brach__{date_string}'\n",
        "gif_dir = os.path.join(base_path, \"gifs/\" + base_name)\n",
        "misc_runs_dir = os.path.join(base_path, \"misc_runs/\" + base_name)\n",
        "\n",
        "Path(gif_dir).mkdir(parents=True, exist_ok=True)\n",
        "Path(misc_runs_dir).mkdir(parents=True, exist_ok=True)"
      ],
      "metadata": {
        "id": "1KdG6IZOd-d5"
      },
      "execution_count": null,
      "outputs": []
    },
    {
      "cell_type": "markdown",
      "source": [
        "### Hyperparameters"
      ],
      "metadata": {
        "id": "qFcJYcGEtWQB"
      }
    },
    {
      "cell_type": "code",
      "source": [
        "objectives = [\"Short Time\"]\n",
        "n_dimensions = 1\n",
        "n_iterations = 200\n",
        "n_population = 10\n",
        "n_generations = 200\n",
        "n_points = 30\n",
        "\n",
        "# Boundaries \n",
        "xl = 0 # left boundary\n",
        "xr = 1 # rigth boundary\n",
        "yu = 1 # up boundary\n",
        "yl = -1 # low boundary\n",
        "limits = [xl, yl]\n",
        "weights = [0.1, 0.1]\n",
        "height = 1\n",
        "width = 1\n",
        "\n",
        "seed = 1\n",
        "\n",
        "individual = []\n",
        "show_info = True # See Description Prints\n",
        "save_gif = True # Save gif image\n",
        "frames_gif = 100 "
      ],
      "metadata": {
        "id": "joqkmUnPtUzD"
      },
      "execution_count": null,
      "outputs": []
    },
    {
      "cell_type": "markdown",
      "source": [
        "### Common Functions"
      ],
      "metadata": {
        "id": "J7c4bPcZE745"
      }
    },
    {
      "cell_type": "code",
      "source": [
        "def normalize(data, min, max):\n",
        "  normal = []\n",
        "  old_min = np.min(data)\n",
        "  old_max = np.max(data)\n",
        "  old_range = old_max - old_min\n",
        "  \n",
        "  new_min = min\n",
        "  new_max = max\n",
        "  new_range = new_max - new_min\n",
        "\n",
        "  if old_range == 0:            \n",
        "      if old_min < new_min:      \n",
        "          new_value = new_min\n",
        "      elif old_min > new_max:    \n",
        "          new_value = new_max\n",
        "      else:                    \n",
        "          new_value = old_min\n",
        "      normal = [new_value for value in data]\n",
        "  else:\n",
        "      scale = new_range / old_range\n",
        "      normal = [(value - old_min) * scale + new_min for value in data]\n",
        "\n",
        "  return normal\n",
        "\n",
        "def make_image(fp_in, fp_out):\n",
        "  global counter\n",
        "  counter += 1\n",
        "  imgs = (Image.open(f) for f in sorted(glob.glob(fp_in)))\n",
        "  img = next(imgs)  # extract first image from iterator\n",
        "  img.save(fp=fp_out, format='GIF', append_images=imgs,\n",
        "          save_all=True, duration=400, loop=0)\n",
        "  \n",
        "  img = Image.open(fp_out)\n",
        "  \n",
        "def show_gif(fname):\n",
        "    import base64\n",
        "    from IPython import display\n",
        "    with open(fname, 'rb') as fd:\n",
        "        b64 = base64.b64encode(fd.read()).decode('ascii')\n",
        "    return display.HTML(f'<img src=\"data:image/gif;base64,{b64}\" />')\n",
        "\n",
        "def plot_fitness_function(ax, best_FF):\n",
        "    ax.clear()\n",
        "    ax.set_xlabel('# generations')\n",
        "    ax.set_ylabel('fitness function')\n",
        "    ax.plot(best_FF, label='best', color='dodgerblue')\n",
        "    ax.legend()\n",
        "    ax.text(0.6*len(best_FF), 0.8*max(best_FF), 'best: {:.3f}'.format(best_FF[-1]))\n",
        "\n",
        "\n",
        "def fitnessFunction(y_no_end_pts, height):\n",
        "    g = 9.8\n",
        "    n_segments = len(y_no_end_pts) + 1\n",
        "    width = 1.0\n",
        "    delta_x = width/n_segments\n",
        "    #So if the next point is lower than the previous one, d will be *positive* (i.e., the y axis is down, opposite with the plot axis.)\n",
        "\n",
        "    y = torch.cat((torch.tensor([height]), y_no_end_pts, torch.tensor([0.0])), dim=0)\n",
        "\n",
        "    d = torch.stack([-(y[i+1] - y[i]) for i in range(n_segments)])\n",
        "\n",
        "    temp = torch.stack([torch.tensor(0.0)] + [sum(d[:(i+1)]) for i in range(len(d))])\n",
        "    v = sqrt(2*g)*torch.sqrt(temp)\n",
        "\n",
        "    v = v[:-1]\n",
        "    t = (torch.sqrt(v**2 + 2*g*d) - v)/(g*d/torch.sqrt(d**2 + delta_x**2))\n",
        "\n",
        "    return(sum(t))"
      ],
      "metadata": {
        "id": "CWPwgzl6E_aP"
      },
      "execution_count": null,
      "outputs": []
    },
    {
      "cell_type": "markdown",
      "metadata": {
        "id": "PLp9F2gTVs6P"
      },
      "source": [
        "## Genetic Algorithm Components"
      ]
    },
    {
      "cell_type": "markdown",
      "metadata": {
        "id": "ZATLhqOBV4OM"
      },
      "source": [
        "### Initialization"
      ]
    },
    {
      "cell_type": "markdown",
      "source": [
        "\n",
        "#### Individual\n",
        "\n",
        "Creating Random Individual"
      ],
      "metadata": {
        "id": "OunaZmudTRs4"
      }
    },
    {
      "cell_type": "code",
      "execution_count": null,
      "metadata": {
        "id": "dBQYp6_zhsjA"
      },
      "outputs": [],
      "source": [
        "class Individual():\n",
        "\n",
        "  def __init__(self, n_points=n_points, height=height, **kwargs):\n",
        "    self.n_segments = n_points\n",
        "    self.n_pts = n_points+1\n",
        "    self.width = 1.0\n",
        "    self.height = height\n",
        "    self.y = [self.height]\n",
        "    self.x = [0]\n",
        "    self.delta_x = self.width/self.n_segments\n",
        "    self.fitness = None\n",
        "\n",
        "    self.sameness_thresh = kwargs.get('sameness_thresh', 1*10.0**(-5))\n",
        "\n",
        "    self.same_thresh_decay_steps = kwargs.get('same_thresh_decay_steps', None)\n",
        "\n",
        "    if self.same_thresh_decay_steps is None:\n",
        "        self.same_thresh_decay_factor = 1.0\n",
        "    else:\n",
        "        self.same_thresh_decay_factor = (10.0**-4)**(1.0/self.same_thresh_decay_steps)\n",
        "\n",
        "    self.mutate_strength_height_frac = kwargs.get('mutate_strength_height_frac', 1/20.0)\n",
        "    self.mutate_strength = self.height*self.mutate_strength_height_frac\n",
        "    self.mutate_all_chance = kwargs.get('mutate_all_chance', 0.0)\n",
        "\n",
        "    for i in range(self.n_segments-1):\n",
        "        self.x.append((i+1)*self.delta_x)\n",
        "        frac = 1\n",
        "        self.y.append(-self.height/frac + random()*(self.height - (-self.height/frac)))\n",
        "\n",
        "    self.x.append(1.0)\n",
        "    self.y.append(0)\n",
        "\n",
        "    self.sol = None\n",
        "\n",
        "    #This is just assuming it dropping vertically and then going horizonally at that speed\n",
        "    g = 9.8\n",
        "    t1 = sqrt(2*self.height/g)\n",
        "    v1 = g*t1\n",
        "    t2 = self.width/v1\n",
        "    self.max_FF = 40*(t1 + t2)"
      ]
    },
    {
      "cell_type": "markdown",
      "metadata": {
        "id": "ffE6-Ww1V9cl"
      },
      "source": [
        "#### Population\n",
        "\n",
        "Creating a Population with n-random Individuals"
      ]
    },
    {
      "cell_type": "code",
      "execution_count": null,
      "metadata": {
        "id": "tL1eHy7ANksX"
      },
      "outputs": [],
      "source": [
        "class Population():\n",
        "  \n",
        "  def __init__(self, individual_class=Individual, n_population=n_population, **kwargs):\n",
        "    self.kwargs_str = '__'.join(['{}={}'.format(x[0], x[1]) for x in kwargs.items()])\n",
        "    print(self.kwargs_str)\n",
        "\n",
        "    self.individual_class = individual_class\n",
        "    self.class_name = individual_class.__name__\n",
        "    self.n_population = n_population\n",
        "    self.population = [self.createNewIndivid(**kwargs) for i in range(self.n_population)]\n",
        "    self.sorted_population = None\n",
        "\n",
        "    if (show_info):\n",
        "      self.printPopulation()\n",
        "      self.plotPopulation()\n",
        "\n",
        "  def createNewIndivid(self, **kwargs):\n",
        "    return(self.individual_class(**kwargs))\n",
        "\n",
        "  def printPopulation(self):\n",
        "    print(\"Population Edited Parameters: \")\n",
        "    print(self.kwargs_str)\n",
        "    print(\"--------------------------------\")\n",
        "\n",
        "  def plotPopulation(self,  **kwargs):\n",
        "    print(\"Population Diagram: \")\n",
        "    print(\"--------------------------------\")\n",
        "    # plot lines\n",
        "    for i in range(self.n_population):\n",
        "      plt.plot(self.population[i].x, self.population[i].y)\n",
        "    plt.show()\n",
        "\n",
        "\n",
        "  "
      ]
    },
    {
      "cell_type": "markdown",
      "source": [
        "### Evaluation"
      ],
      "metadata": {
        "id": "i3iEvpH2TX_f"
      }
    },
    {
      "cell_type": "code",
      "source": [
        "class Fitness():\n",
        "\n",
        "  global show_info\n",
        "\n",
        "  def __init__(self, population=Population, **kwargs):\n",
        "    self.population = population\n",
        "\n",
        "  def getBestCurve(self, individual):\n",
        "    w = individual.width\n",
        "    h = individual.height\n",
        "\n",
        "    #The coords we've been using (dropped at (0,h), ending at (w,0)), simply add h to y in the end.\n",
        "\n",
        "    f_t = lambda t: np.cos(t)-1+ (-h/w)*(np.sin(t)-t)\n",
        "    t = fsolve(f_t,3.14)[0]\n",
        "\n",
        "    a = w/(t-sin(t))\n",
        "\n",
        "    t_range = np.linspace(0,t,individual.n_pts)\n",
        "\n",
        "    x = lambda t: a*(t-np.sin(t))\n",
        "    y = lambda t: h + a*(np.cos(t)-1)\n",
        "\n",
        "    self.sol = (t_range, x, y)\n",
        "\n",
        "    sol_numeric_y = []\n",
        "\n",
        "    for x_pt in individual.x:\n",
        "        f = lambda t: x(t)-x_pt\n",
        "        tval = fsolve(f,3.14)[0]\n",
        "        sol_numeric_y.append(y(tval))\n",
        "\n",
        "    temp_state = individual.y\n",
        "    individual.y = sol_numeric_y\n",
        "    individual.sol_numeric_y = sol_numeric_y\n",
        "    \n",
        "    self.t_ideal = self.getFitness(individual)\n",
        "    individual.y = temp_state\n",
        "\n",
        "    if show_info:\n",
        "      print('\\n-------------------------------------')\n",
        "      print('Theoretical best time:', self.t_ideal, \"\\n\")\n",
        "\n",
        "  def getFitness(self, individual):\n",
        "    g = 9.8\n",
        "\n",
        "    #So if the next point is lower than the previous one, d will be *positive* (i.e., the y axis is down, opposite with the plot axis.)\n",
        "    d = -np.array([individual.y[i+1] - individual.y[i] for i in range(individual.n_segments)])\n",
        "\n",
        "    #Be careful with signs and indices!\n",
        "    v = sqrt(2*g)*np.sqrt([0] + [sum(d[:(i+1)]) for i in range(len(d))])\n",
        "\n",
        "    if np.isnan(v).any():\n",
        "      print('\\n\\nbad v:',v)\n",
        "      print('\\nbad d sum:',[sum(d[:(i+1)]) for i in range(len(d))])\n",
        "      print('\\nstate', individual.y)\n",
        "      plt.savefig('test_bad_np.png')\n",
        "      exit(0)\n",
        "\n",
        "\n",
        "    #v = np.sqrt([0] + [sum(d[:(i+1)]) for i in range(len(d))])\n",
        "    v = v[:-1]\n",
        "    t = (np.sqrt(v**2 + 2*g*d) - v)/(g*d/np.sqrt(d**2 + individual.delta_x**2))\n",
        "\n",
        "    F1 = (sum(t))\n",
        "    return F1\n",
        "\n",
        "  def getFitnessPopulation(self, population):\n",
        "    for individual in population.population:\n",
        "      individual.fitness = self.getFitness(individual)\n",
        "      \n",
        "    print(population.population[0].fitness)\n",
        "    return population\n",
        "    \n",
        "    #self.population_fitness = [(individual.fitness, self.getFitness(individual),'old') for individual in population.population]\n",
        "    #return self.population_fitness\n",
        "\n",
        "  #def sortIndividuals(self, population_fitness):\n",
        "  #  individs_fitness = sorted(self.population_fitness,key=lambda x: x[1])\n",
        "  #  self.sorted_population = individs_fitness\n",
        "\n",
        "  def sortIndividuals(self, population):\n",
        "    self.getFitnessPopulation(population)\n",
        "    individs_fitness = sorted(population,key=lambda x: x[1])\n",
        "    #print(individs_fitness)\n",
        "    self.sorted_population = individs_fitness\n",
        "\n",
        "  def printFitnessFunctions(self, population):\n",
        "    for individ in population:\n",
        "      individ.printState()\n",
        "      print(individ.fitnessFunction())\n",
        "\n",
        "  def plotState(self, individual, ax, width, height, color='black', plot_sol=False, plot_label=False):\n",
        "    # Pass this an axis from another program. It will handle showing it and stuff.\n",
        "    ax.set_xlabel('X axis')\n",
        "    ax.set_ylabel('Y axis')\n",
        "    ax.set_title('Comparison Actual Result with Brachistochrone')\n",
        "\n",
        "    if plot_sol:\n",
        "      t = self.sol[0]\n",
        "      x = self.sol[1]\n",
        "      y = self.sol[2]\n",
        "      ax.plot(x(t), y(t), '-', color='gray')\n",
        "\n",
        "      if plot_label:\n",
        "        ax.text(0.8*width, 0.9*height, 'ideal: {:.3f}'.format(self.t_ideal))\n",
        "\n",
        "    if plot_label:\n",
        "      ax.text(0.8*width, 0.8*height, 'cur. best: {:.3f}'.format(self.getFitness(individual)))\n",
        "\n",
        "    ax.plot(individual.x, individual.y, 'o-', color=color)\n",
        "\n",
        "\n",
        "  def plotFitnessFunction(self, ax, best, mean):\n",
        "    ax.clear()\n",
        "    ax.set_xlabel('Generations')\n",
        "    ax.set_ylabel('Fitness Function')\n",
        "    ax.set_title('Best and Mean Results')\n",
        "\n",
        "    ax.plot(best, label='best', color='dodgerblue')\n",
        "    ax.plot(mean, label='mean', color='tomato')\n",
        "    ax.legend()\n",
        "    ax.text(0.6*len(best), 0.8*max(best), 'best: {:.3f}\\nmean: {:.3f}'.format(best[-1], mean[-1]))\n"
      ],
      "metadata": {
        "id": "cDgCbW6CV950"
      },
      "execution_count": null,
      "outputs": []
    },
    {
      "cell_type": "markdown",
      "source": [
        "### Selection"
      ],
      "metadata": {
        "id": "I6AL8YPHTdNK"
      }
    },
    {
      "cell_type": "code",
      "source": [
        "class Selection():\n",
        "  def __init__(self, population=Population(), **kwargs):\n",
        "    self.population = population\n",
        "\n",
        "  def mate(self, other_individ):\n",
        "    return(self.mateCrossover(other_individ))\n",
        "\n",
        "  def mateRandomIndices(self, other_individ):\n",
        "    newindivid_1 = deepcopy(self)\n",
        "    newindivid_2 = deepcopy(other_individ)\n",
        "    #inclusive, inclusive\n",
        "    N_switch = randint(1,self.n_segments-1)\n",
        "    switch_indices = sample(list(range(1,self.n_segments)),N_switch)\n",
        "\n",
        "    for index in switch_indices:\n",
        "        temp = newindivid_1.y[index]\n",
        "        newindivid_1.y[index] = newindivid_2.y[index]\n",
        "        newindivid_2.y[index] = temp\n",
        "\n",
        "    return(newindivid_1,newindivid_2)\n",
        "\n",
        "\n",
        "  def getBestAndMean(self):\n",
        "    if self.sorted_population is None:\n",
        "      return((0,0))\n",
        "\n",
        "    best = self.sorted_population[0][1]\n",
        "    mean = sum([individfitness[1] for individfitness in self.sorted_population])/(1.0*len(self.population))\n",
        "    return((best,mean))\n",
        "\n",
        "  def isSameState(self, other_state):\n",
        "        max_diff = ((self.n_pts-2)*self.height)**2\n",
        "        diff = (np.array(self.y) - np.array(other_state.y))[1:-1]\n",
        "        abs_diff_normed = abs(sum(diff))/(self.n_pts-2)\n",
        "        if abs_diff_normed < self.sameness_thresh:\n",
        "            return(True)\n",
        "        else:\n",
        "            return(False)\n",
        "\n",
        "  def deleteDupes(self,pop):\n",
        "    unique_individs = []\n",
        "    no_dupes = []\n",
        "    for i,ind1 in enumerate(pop):\n",
        "      #if ind1.y not in unique_individs:\n",
        "      is_not_unique = np.any([ind1.isSameState(other) for other in no_dupes])\n",
        "      if not is_not_unique:\n",
        "          unique_individs.append(ind1.y)\n",
        "          no_dupes.append(ind1)\n",
        "\n",
        "    return(no_dupes)\n",
        "\n",
        "  def mateTournament(self):\n",
        "    best_N = max(int(self.n_population/5), 2)\n",
        "    '''\n",
        "    # Attention here, check for sortIndividual\n",
        "    self.sortIndivids()\n",
        "    '''\n",
        "    self.population = [x[0] for x in self.sorted_population]\n",
        "\n",
        "    new_individs = []\n",
        "    last_ind = min(len(self.population), self.n_population)\n",
        "    for i in range(best_N):\n",
        "        for j in range(i+1,best_N):\n",
        "            b1,b2 = self.population[i].mate(self.population[j])\n",
        "            #b1,b2 = self.mate(self.population[i],self.population[j])\n",
        "            new_individs.append(b1)\n",
        "            new_individs.append(b2)\n",
        "\n",
        "    self.population = (new_individs + self.population)[:self.n_population]\n",
        "    [individ.mutate() for individ in self.population]\n",
        "\n",
        "\n",
        "  def mateGrid(self):\n",
        "    new_individs = []\n",
        "\n",
        "    #Mating scheme\n",
        "    last_ind = min(len(self.population),self.n_population)\n",
        "    for i in range(last_ind):\n",
        "        for j in range(i+1,last_ind):\n",
        "            b1,b2 = self.population[i].mate(self.population[j])\n",
        "            new_individs.append(b1)\n",
        "            new_individs.append(b2)\n",
        "\n",
        "    best_individ = deepcopy(self.population[0])\n",
        "    self.population = self.population + new_individs\n",
        "    [individ.mutate() for individ in self.population]\n",
        "    self.population = self.population + [best_individ]\n",
        "\n",
        "    self.sortIndivids()\n",
        "\n",
        "    if len(self.sorted_population) > self.n_population:\n",
        "        self.population = self.deleteDupes([x[0] for x in self.sorted_population])\n",
        "    else:\n",
        "        self.population = [x[0] for x in self.sorted_population]\n",
        "\n",
        "    self.population = self.population[:self.n_population]\n",
        "\n"
      ],
      "metadata": {
        "id": "n9-8KuygrGn6"
      },
      "execution_count": null,
      "outputs": []
    },
    {
      "cell_type": "markdown",
      "source": [
        "### Crossover"
      ],
      "metadata": {
        "id": "1Oss4a-wTgbW"
      }
    },
    {
      "cell_type": "code",
      "source": [
        "class Crossover():\n",
        "  def mateCrossover(self,other_individ):\n",
        "    newindivid_1 = deepcopy(self)\n",
        "    newindivid_2 = deepcopy(other_individ)\n",
        "\n",
        "    r1 = randint(1,self.n_pts-3)\n",
        "    r2 = randint(r1+1,self.n_pts-2)\n",
        "\n",
        "    temp = newindivid_1.y[r1:r2]\n",
        "    newindivid_1.y[r1:r2] = newindivid_2.y[r1:r2]\n",
        "    newindivid_2.y[r1:r2] = temp\n",
        "\n",
        "    return(newindivid_1,newindivid_2)\n",
        "\n",
        "\n",
        "  def mateAvg(self,other_individ):\n",
        "    newindivid_1 = deepcopy(self)\n",
        "    newindivid_2 = deepcopy(other_individ)\n",
        "\n",
        "    newindivid_1.y = ((np.array(newindivid_1.y) + np.array(newindivid_2.y))/2).tolist()\n",
        "\n",
        "    return(newindivid_1,newindivid_1)"
      ],
      "metadata": {
        "id": "79m3ovo2ryYp"
      },
      "execution_count": null,
      "outputs": []
    },
    {
      "cell_type": "markdown",
      "source": [
        "### Mutation"
      ],
      "metadata": {
        "id": "3k1BhsXeTjpk"
      }
    },
    {
      "cell_type": "code",
      "source": [
        "class Mutation():\n",
        "  def mutate(self):\n",
        "    self.sameness_thresh *= self.same_thresh_decay_factor\n",
        "\n",
        "    if random() < self.mutate_all_chance:\n",
        "      # Mutate all indices by some amount.\n",
        "      mut_amount = np.random.normal(scale=self.mutate_strength)\n",
        "      N_mutate = randint(1, self.n_segments-1)\n",
        "      mutate_indices = sample(list(range(1, self.n_segments)), N_mutate)\n",
        "\n",
        "      for index in range(1, self.n_segments-1):\n",
        "          new_height = self.y[index] + mut_amount\n",
        "          if new_height < self.height:\n",
        "              self.y[index] = new_height\n",
        "\n",
        "    else:\n",
        "      # Mutate random set of indices\n",
        "      N_mutate = randint(1, self.n_segments-1)\n",
        "      mutate_indices = sample(list(range(1, self.n_segments)), N_mutate)\n",
        "\n",
        "      for index in mutate_indices:\n",
        "          new_height = self.y[index] + np.random.normal(scale=self.mutate_strength)\n",
        "          if new_height < self.height:\n",
        "              self.y[index] = new_height\n",
        "\n",
        "  def mutateSingle(self):\n",
        "    index = randint(1, self.n_segments-1)\n",
        "\n",
        "    new_height = self.y[index] + np.random.normal(scale=self.mutate_strength)\n",
        "    if new_height < self.height:\n",
        "        self.y[index] = new_height"
      ],
      "metadata": {
        "id": "BKhA67J2qzUD"
      },
      "execution_count": null,
      "outputs": []
    },
    {
      "cell_type": "markdown",
      "source": [
        "### Survivor Selection"
      ],
      "metadata": {
        "id": "Cfmiw9L2rXII"
      }
    },
    {
      "cell_type": "code",
      "source": [
        "class Survivor_Selection():\n",
        "\n",
        "  def solFound(self):\n",
        "    max_diff = ((self.n_pts-2)*self.height)**2\n",
        "    diff = np.array(self.y) - np.array(self.sol_numeric_y)\n",
        "    abs_diff = sum(diff**2)\n",
        "    thresh = 1*10.0**(-5)\n",
        "    if abs_diff/max_diff < thresh:\n",
        "        print('abs_diff/max_diff: {:.3f}'.format(abs_diff/max_diff))\n",
        "        return(True)\n",
        "    else:\n",
        "        return(False)"
      ],
      "metadata": {
        "id": "OB2UwSZprZ6G"
      },
      "execution_count": null,
      "outputs": []
    },
    {
      "cell_type": "markdown",
      "metadata": {
        "id": "XtTbqD-tY4NC"
      },
      "source": [
        "## Genetic Algorithm execution"
      ]
    },
    {
      "cell_type": "code",
      "source": [
        "class GeneticAlgorithm():\n",
        "    \n",
        "  def __init__(self, population=Population(), generations=n_generations):\n",
        "    self.n_generations = n_generations \n",
        "\n",
        "    fitness = Fitness(population)\n",
        "    fitness.getFitnessPopulation(population)\n",
        "    \n",
        "\n",
        "    '''\n",
        "    def plot_evolution(self,  **kwargs):\n",
        "      N_gen = kwargs.get('N_gen', 550)\n",
        "      plot_state = kwargs.get('plot_state', True)\n",
        "      plot_whole_pop = kwargs.get('plot_whole_pop', False)\n",
        "      save_best_FF = kwargs.get('save_best_FF', True)\n",
        "\n",
        "      base_name_temp = f'evolve_{self.class_name}__pop={self.n_population}__gen={N_gen}__{self.kwargs_str}__{date_string}'\n",
        "\n",
        "      if save_gif:\n",
        "          N_gif_frames = 100\n",
        "          gif_dir = os.path.join(base_path, \"gifs/\" + base_name_temp)\n",
        "          Path(gif_dir).mkdir(parents=True, exist_ok=True)\n",
        "\n",
        "      if plot_state:\n",
        "          fig, axes = plt.subplots(2,1,figsize=(6,8))\n",
        "          ax_FF = axes[0]\n",
        "          ax_state = axes[1]\n",
        "      else:\n",
        "          fig, ax_FF = plt.subplots(1,1,figsize=(8,8))\n",
        "\n",
        "      if show_info:\n",
        "          plt.show(block=False)\n",
        "\n",
        "      sol_found = False\n",
        "\n",
        "      best = []\n",
        "      mean = []\n",
        "      cur_best, cur_mean = 0, 0\n",
        "\n",
        "      method_list = [func for func in dir(self.individ_class) if callable(getattr(self.individ_class, func))]\n",
        "\n",
        "      if plot_state and plot_whole_pop:\n",
        "          NUM_COLORS = self.n_population + 2\n",
        "          cm = plt.get_cmap('RdBu')\n",
        "          cNorm  = colors.Normalize(vmin=0, vmax=NUM_COLORS-1)\n",
        "          scalar_map = mplcm.ScalarMappable(norm=cNorm, cmap=cm)\n",
        "          pop_plot_color_list = [scalar_map.to_rgba(i) for i in range(NUM_COLORS)][::-1]\n",
        "\n",
        "\n",
        "      for i in range(self.generations):\n",
        "          self.sortIndivids()\n",
        "          cur_best, cur_mean = self.getBestAndMean()\n",
        "\n",
        "          best.append(cur_best)\n",
        "          mean.append(cur_mean)\n",
        "\n",
        "          if i%max(1, int(N_gen/20.0))==0:\n",
        "              print('Generation {}, current best = {:.3f}, current pop. size = {}'.format(i, cur_best, len(self.population)))\n",
        "\n",
        "          if 'solFound' in method_list:\n",
        "              if self.population[0].solFound():\n",
        "                  print(f'found solution in generation {i}!\\n')\n",
        "                  if 'printState' in method_list:\n",
        "                      self.population[0].printState()\n",
        "                  break\n",
        "\n",
        "          # Plot the current best and mean.\n",
        "          self.plot_fitness_function(ax_FF, best, mean)\n",
        "\n",
        "          # If we're plotting the state of the population, call their plotState() functions.\n",
        "          # You can plot either the best member, or the whole pop.\n",
        "          if plot_state:\n",
        "              ax_state.clear()\n",
        "\n",
        "              if plot_whole_pop:\n",
        "                  for j, ind in enumerate(self.population[::-1]):\n",
        "                      ind.plotState(ax_state, color=pop_plot_color_list[j])\n",
        "\n",
        "              self.population[0].plotState(ax_state, color='black', plot_sol=True, plot_label=True)\n",
        "\n",
        "          if show_info:\n",
        "              fig.canvas.draw()\n",
        "\n",
        "          if save_gif:\n",
        "              if i==0 or (i%max(1, int(N_gen/N_gif_frames))==0):\n",
        "                  plt.savefig(f'{gif_dir}/{i+1}.png')\n",
        "\n",
        "          self.mateGrid()\n",
        "\n",
        "\n",
        "\n",
        "      plt.savefig(f'{misc_runs_dir}/{base_name_temp}.png')\n",
        "\n",
        "      if save_best_FF:\n",
        "          np.savetxt(f'{misc_runs_dir}/bestFF_{base_name_temp}.txt', best)\n",
        "\n",
        "      if save_gif:\n",
        "          # filepaths\n",
        "          fp_in = misc_runs_dir + \"/*.png\"\n",
        "          fp_out = misc_runs_dir + f\"/image{counter+1}.gif\"\n",
        "          make_image(fp_in, fp_out)\n",
        "\n",
        "      print('\\nending mean = {:.3f}'.format(cur_mean))\n",
        "\n",
        "      return(self.population[0])\n",
        "    \n",
        "    #ending_state = pop.plot_evolution(N_gen=self.generations, plot_whole_pop=True, save_gif=True)\n",
        "'''\n",
        "\n",
        "\n"
      ],
      "metadata": {
        "id": "8Y0nIaF0XClQ"
      },
      "execution_count": null,
      "outputs": []
    },
    {
      "cell_type": "code",
      "source": [
        "population_fitness = []\n",
        "fitness = []\n",
        "\n",
        "pop = Population(Individual, n_population, n_points=n_points, height=height, sameness_thresh=15*10**-2, mutate_strength_height_frac=0.21, same_thresh_decay_steps=n_generations)\n",
        "\n",
        "fitness = Fitness(pop)\n",
        "\n",
        "#population_fitness = [(individual.fitness, fitness.getFitness(individual),'old') for individual in pop.population]\n",
        "for i in pop.population:\n",
        "  print(i)\n",
        "  print(i.fitness)\n",
        "\n",
        "\n",
        "print(pop.population[0].fitness)\n",
        "\n",
        "print(pop.population[0].fitness)\n",
        "#print(population_fitness)\n",
        "\n"
      ],
      "metadata": {
        "id": "dfkRzsSbBJm8"
      },
      "execution_count": null,
      "outputs": []
    },
    {
      "cell_type": "code",
      "source": [
        "fit=[]\n",
        "\n",
        "def sorter(item):\n",
        "  print(item[10].fitness)\n",
        "  F1 = item[2]\n",
        "  return (fitness)\n",
        "\n",
        "\n",
        "sorter(pop.population)\n",
        "\n",
        "#fit = sorted(pop.population, key=None)\n",
        "\n",
        "\n",
        "print(pop.population)\n",
        "\n",
        "\n",
        "print(fit)"
      ],
      "metadata": {
        "id": "Sx1EHoBNu0dW"
      },
      "execution_count": null,
      "outputs": []
    },
    {
      "cell_type": "markdown",
      "source": [
        "# Test Section"
      ],
      "metadata": {
        "id": "i5fY9l21CuPl"
      }
    },
    {
      "cell_type": "markdown",
      "source": [
        "## Individual Random Generation"
      ],
      "metadata": {
        "id": "gzZnngge44lv"
      }
    },
    {
      "cell_type": "code",
      "source": [
        "'''\n",
        "individual = Individual(n_points=n_points, height=height)\n",
        "plt.plot(individual.x, individual.y)\n",
        "plt.title('Individual. Random Generation')\n",
        "plt.show()\n",
        "\n",
        "y = torch.tensor(individual.y[1:-1], requires_grad=True)\n",
        "\n",
        "fitness = Fitness(individual)\n",
        "fitness.getBestCurve(individual)\n",
        "\n",
        "adam_optimizer = optim.RMSprop([y])\n",
        "\n",
        "best = []\n",
        "mean = []\n",
        "\n",
        "for t in range(generations):\n",
        "\n",
        "    J = fitnessFunction(y, height)\n",
        "\n",
        "    best.append(J.item())\n",
        "    mean.append(np.mean(best))\n",
        "\n",
        "    individual.y[1:-1] = y.detach().tolist()\n",
        "\n",
        "    if save_gif:\n",
        "        if t==0 or (t%max(1, int(generations/frames_gif))==0):\n",
        "            plt.savefig(f'{gif_dir}/{t+1}.png')\n",
        "\n",
        "    if show_info:\n",
        "      if t%int(generations/20)==0:\n",
        "        print('iteration {:10}     |    loss: {:.4f}'.format(t, J.item()))\n",
        "\n",
        "    adam_optimizer.zero_grad()\n",
        "    J.backward()\n",
        "    adam_optimizer.step()\n",
        "\n",
        "\n",
        "plt.savefig(f'{misc_runs_dir}.png')\n",
        "\n",
        "\n",
        "if show_info:\n",
        "  print('\\n-------------------------------------')\n",
        "\n",
        "  fig, axes = plt.subplots(2,1,figsize=(6,8))\n",
        "  plt.subplots_adjust(left=0.1,\n",
        "                    bottom=0.1, \n",
        "                    right=0.9, \n",
        "                    top=0.9, \n",
        "                    wspace=0.4, \n",
        "                    hspace=0.4)\n",
        "  ax_FF = axes[0]\n",
        "  ax_state = axes[1]\n",
        "  fitness.plotFitnessFunction(ax_FF, best, mean)\n",
        "  fitness.plotState(individual, ax_state, width, height, color='tomato', plot_sol=True, plot_label=True)\n",
        "\n",
        "  fig.canvas.draw()\n",
        "\n",
        "\n",
        "if save_gif:\n",
        "    fp_in = gif_dir + \"/*.png\"\n",
        "    fp_out = gif_dir + f'/image{counter+1}.gif'\n",
        "    make_image(fp_in, fp_out)\n",
        "\n",
        "'''\n"
      ],
      "metadata": {
        "id": "4DM9mwsk2u_j"
      },
      "execution_count": null,
      "outputs": []
    },
    {
      "cell_type": "markdown",
      "metadata": {
        "id": "LjhuHH38cb2g"
      },
      "source": [
        "## Popolation Random Generation"
      ]
    },
    {
      "cell_type": "code",
      "source": [
        "population = Population(Individual, n_population, n_points=n_points, height=height, sameness_thresh=15*10**-2, mutate_strength_height_frac=0.21, same_thresh_decay_steps=n_generations)\n",
        "\n",
        "GeneticAlgorithm(population=population, \n",
        "                 generations=n_generations)\n"
      ],
      "metadata": {
        "id": "1fcvhcuh4iA0"
      },
      "execution_count": null,
      "outputs": []
    }
  ],
  "metadata": {
    "accelerator": "GPU",
    "colab": {
      "collapsed_sections": [],
      "name": "Single-Objective_Brachistochrone.ipynb",
      "provenance": [],
      "toc_visible": true,
      "include_colab_link": true
    },
    "kernelspec": {
      "display_name": "Python 3",
      "name": "python3"
    },
    "language_info": {
      "name": "python"
    }
  },
  "nbformat": 4,
  "nbformat_minor": 0
}
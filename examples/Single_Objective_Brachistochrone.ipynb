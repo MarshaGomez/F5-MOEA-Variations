{
  "cells": [
    {
      "cell_type": "markdown",
      "metadata": {
        "id": "view-in-github",
        "colab_type": "text"
      },
      "source": [
        "<a href=\"https://colab.research.google.com/github/MarshaGomez/F5-MOEA-Variations/blob/main/examples/Single_Objective_Brachistochrone.ipynb\" target=\"_parent\"><img src=\"https://colab.research.google.com/assets/colab-badge.svg\" alt=\"Open In Colab\"/></a>"
      ]
    },
    {
      "cell_type": "markdown",
      "source": [
        "# Single Objective. Brachistochrone Problem\n",
        "\n",
        "\n",
        "The Brachistochone is the famous problem to find the shape of the curve down wich a bead sliding from rest and accelerated by gravity will slip (**without friction**) from one point to another in the least time. \n",
        "\n",
        "\"The shortest path and the shortest time\""
      ],
      "metadata": {
        "id": "xBb56OP_tvYO"
      }
    },
    {
      "cell_type": "markdown",
      "metadata": {
        "id": "bFtmiXscVWij"
      },
      "source": [
        "## Base Operations"
      ]
    },
    {
      "cell_type": "markdown",
      "source": [
        "### Necessary libraries"
      ],
      "metadata": {
        "id": "9CCHoLdUO32d"
      }
    },
    {
      "cell_type": "code",
      "execution_count": null,
      "metadata": {
        "id": "_dJluD5gn0fS"
      },
      "outputs": [],
      "source": [
        "from google.colab import drive\n",
        "drive.mount('/content/gdrive', force_remount=True) "
      ]
    },
    {
      "cell_type": "code",
      "execution_count": null,
      "metadata": {
        "id": "nV4tkbx6l6CL"
      },
      "outputs": [],
      "source": [
        "import matplotlib.pyplot as plt\n",
        "import numpy as np\n",
        "import matplotlib.cm as mplcm\n",
        "import matplotlib.colors as colors\n",
        "import random as rm\n",
        "import os\n",
        "import subprocess\n",
        "import torch\n",
        "import sys\n",
        "import torch.optim as optim\n",
        "import glob\n",
        "import time\n",
        "\n",
        "from pathlib import Path\n",
        "from PIL import Image, ImageSequence\n",
        "from time import sleep\n",
        "from datetime import datetime, date\n",
        "from math import sqrt,sin,cos, floor\n",
        "from scipy.optimize import fsolve\n",
        "from random import shuffle, randint, sample\n",
        "from copy import deepcopy"
      ]
    },
    {
      "cell_type": "markdown",
      "source": [
        "### Global Values"
      ],
      "metadata": {
        "id": "-6AlGlMZd5g0"
      }
    },
    {
      "cell_type": "code",
      "source": [
        "base_path = \"/content/gdrive/My Drive/Brachistochrone/MOEA Project/Single-Objective\"\n",
        "counter = 0\n",
        "\n",
        "date_string = date.today()\n",
        "base_name = f'GD_Brach__{date_string}'\n",
        "gif_dir = os.path.join(base_path, \"gifs/\" + base_name)\n",
        "misc_runs_dir = os.path.join(base_path, \"misc_runs/\" + base_name)\n",
        "\n",
        "Path(gif_dir).mkdir(parents=True, exist_ok=True)\n",
        "Path(misc_runs_dir).mkdir(parents=True, exist_ok=True)"
      ],
      "metadata": {
        "id": "1KdG6IZOd-d5"
      },
      "execution_count": null,
      "outputs": []
    },
    {
      "cell_type": "markdown",
      "source": [
        "### Hyperparameters"
      ],
      "metadata": {
        "id": "qFcJYcGEtWQB"
      }
    },
    {
      "cell_type": "code",
      "source": [
        "objectives = [\"Short Time\"]\n",
        "n_dimensions = 1\n",
        "n_iterations = 200\n",
        "n_individuals = 40\n",
        "n_generations = 400\n",
        "n_points = 30\n",
        "\n",
        "# Probabilities\n",
        "ps = 0.2 # selection\n",
        "pc = 1 # crossover\n",
        "pm = 0.1 # mutation\n",
        "\n",
        "elitismo = 0.1 \n",
        "\n",
        "p_variable = True # Varied the probability\n",
        "\n",
        "\n",
        "# Boundaries \n",
        "xl = 0 # left boundary\n",
        "xr = 1 # rigth boundary\n",
        "yu = 1 # up boundary\n",
        "yl = -1 # low boundary\n",
        "limits = [xl, yl]\n",
        "weights = [0.1, 0.1]\n",
        "height = 1\n",
        "width = 1\n",
        "\n",
        "seed = 1\n",
        "\n",
        "show_info = True # See Description Prints\n",
        "save_gif = True # Save gif image\n",
        "frames_gif = 100\n",
        "parents = []\n",
        "new_individuals = []"
      ],
      "metadata": {
        "id": "joqkmUnPtUzD"
      },
      "execution_count": null,
      "outputs": []
    },
    {
      "cell_type": "markdown",
      "source": [
        "### Common Functions"
      ],
      "metadata": {
        "id": "J7c4bPcZE745"
      }
    },
    {
      "cell_type": "code",
      "source": [
        "def normalize(data, min, max):\n",
        "  normal = []\n",
        "  old_min = np.min(data)\n",
        "  old_max = np.max(data)\n",
        "  old_range = old_max - old_min\n",
        "  \n",
        "  new_min = min\n",
        "  new_max = max\n",
        "  new_range = new_max - new_min\n",
        "\n",
        "  if old_range == 0:            \n",
        "      if old_min < new_min:      \n",
        "          new_value = new_min\n",
        "      elif old_min > new_max:    \n",
        "          new_value = new_max\n",
        "      else:                    \n",
        "          new_value = old_min\n",
        "      normal = [new_value for value in data]\n",
        "  else:\n",
        "      scale = new_range / old_range\n",
        "      normal = [(value - old_min) * scale + new_min for value in data]\n",
        "\n",
        "  return normal\n",
        "\n",
        "def makeImage(fp_in, fp_out):\n",
        "  global counter\n",
        "  counter += 1\n",
        "  imgs = (Image.open(f) for f in sorted(glob.glob(fp_in)))\n",
        "  img = next(imgs)  # extract first image from iterator\n",
        "  img.save(fp=fp_out, format='GIF', append_images=imgs,\n",
        "          save_all=True, duration=400, loop=0)\n",
        "  \n",
        "  img = Image.open(fp_out)\n",
        "  \n",
        "def showGif(fname):\n",
        "    import base64\n",
        "    from IPython import display\n",
        "    with open(fname, 'rb') as fd:\n",
        "        b64 = base64.b64encode(fd.read()).decode('ascii')\n",
        "    return display.HTML(f'<img src=\"data:image/gif;base64,{b64}\" />')\n",
        "\n",
        "def fitnessFunction(y_no_end_pts, height):\n",
        "    g = 9.8\n",
        "    n_segments = len(y_no_end_pts) + 1\n",
        "    width = 1.0\n",
        "    delta_x = width/n_segments\n",
        "    #So if the next point is lower than the previous one, d will be *positive* (i.e., the y axis is down, opposite with the plot axis.)\n",
        "\n",
        "    y = torch.cat((torch.tensor([height]), y_no_end_pts, torch.tensor([0.0])), dim=0)\n",
        "\n",
        "    d = torch.stack([-(y[i+1] - y[i]) for i in range(n_segments)])\n",
        "\n",
        "    temp = torch.stack([torch.tensor(0.0)] + [sum(d[:(i+1)]) for i in range(len(d))])\n",
        "    v = sqrt(2*g)*torch.sqrt(temp)\n",
        "\n",
        "    v = v[:-1]\n",
        "    t = (torch.sqrt(v**2 + 2*g*d) - v)/(g*d/torch.sqrt(d**2 + delta_x**2))\n",
        "\n",
        "    return(sum(t))\n",
        "\n"
      ],
      "metadata": {
        "id": "CWPwgzl6E_aP"
      },
      "execution_count": null,
      "outputs": []
    },
    {
      "cell_type": "markdown",
      "metadata": {
        "id": "PLp9F2gTVs6P"
      },
      "source": [
        "## Genetic Algorithm Components\n",
        "\n"
      ]
    },
    {
      "cell_type": "markdown",
      "source": [
        "![GA-Diagram.jpg](data:image/jpeg;base64,/9j/4AAQSkZJRgABAQAAAQABAAD/4gIoSUNDX1BST0ZJTEUAAQEAAAIYAAAAAAQwAABtbnRyUkdCIFhZWiAAAAAAAAAAAAAAAABhY3NwAAAAAAAAAAAAAAAAAAAAAAAAAAAAAAAAAAAAAQAA9tYAAQAAAADTLQAAAAAAAAAAAAAAAAAAAAAAAAAAAAAAAAAAAAAAAAAAAAAAAAAAAAAAAAAAAAAAAAAAAAlkZXNjAAAA8AAAAHRyWFlaAAABZAAAABRnWFlaAAABeAAAABRiWFlaAAABjAAAABRyVFJDAAABoAAAAChnVFJDAAABoAAAAChiVFJDAAABoAAAACh3dHB0AAAByAAAABRjcHJ0AAAB3AAAADxtbHVjAAAAAAAAAAEAAAAMZW5VUwAAAFgAAAAcAHMAUgBHAEIAAAAAAAAAAAAAAAAAAAAAAAAAAAAAAAAAAAAAAAAAAAAAAAAAAAAAAAAAAAAAAAAAAAAAAAAAAAAAAAAAAAAAAAAAAAAAAAAAAAAAAAAAAFhZWiAAAAAAAABvogAAOPUAAAOQWFlaIAAAAAAAAGKZAAC3hQAAGNpYWVogAAAAAAAAJKAAAA+EAAC2z3BhcmEAAAAAAAQAAAACZmYAAPKnAAANWQAAE9AAAApbAAAAAAAAAABYWVogAAAAAAAA9tYAAQAAAADTLW1sdWMAAAAAAAAAAQAAAAxlblVTAAAAIAAAABwARwBvAG8AZwBsAGUAIABJAG4AYwAuACAAMgAwADEANv/bAEMAAwICAgICAwICAgMDAwMEBgQEBAQECAYGBQYJCAoKCQgJCQoMDwwKCw4LCQkNEQ0ODxAQERAKDBITEhATDxAQEP/bAEMBAwMDBAMECAQECBALCQsQEBAQEBAQEBAQEBAQEBAQEBAQEBAQEBAQEBAQEBAQEBAQEBAQEBAQEBAQEBAQEBAQEP/AABEIAgkBpAMBIgACEQEDEQH/xAAdAAEAAwEBAQEBAQAAAAAAAAAABQcIBAYDAgkB/8QAShAAAAYBAgMDBwkFBQYHAQAAAAECAwQFBgcREhZWE5TSCBQhIjE40RUXNkFXd5WztSMycXR1CVFSl9UkN2GRobEzNUJyc4G0sv/EABoBAQADAQEBAAAAAAAAAAAAAAABBAUCAwb/xAA3EQEAAQEDCQYEBgMBAQAAAAAAAQIDEVEEEhMUYYGR0fAFFSExUqFBcbHBIjIzYmPhIzRCcvH/2gAMAwEAAhEDEQA/AP6pgAAAAAAAAAAAAAAAAAAAAAAIzKLkscxm3yE2u1KrgyJvB/i7NtS9v/vhFYFh9RZpTNy2BFvLN0iVIkTmkvlxn7SbSsjJtBH6CSkiIi29p7mfutUv92WXf0Gf/wDnWIQauQfhomqPO9QyvxqimfJAfN9gXRFB+Gs+EPm+wLoig/DWfCJ8ePY1k0hk5UrBY2quHu5IiQqIqnReRVTkvpPZTRsEvtCWRkZGnh3IXZtao86vdUzKZ+CR+b7AuiKD8NZ8IfN9gXRFB+Gs+ET4CdJXjJmU4ID5vsC6IoPw1nwh832BdEUH4az4RKzLWrrnoUawsosV6ykHFhNvPJQqS/2a3OzbIz3Wvs2nF8JbnwoUfsSZl9n32IrDkqU82yyyk1uOOKJKUJItzMzP0ERF9YaSvGTMpwQnzfYF0RQfhrPhD5vsC6IoPw1nwiVhWtXZOzGK6yiynK6R5pMQw8lao7/AlfZuER+ovgcbVwnsfCtJ+wyHUGkrxkzKcEB832BdEUH4az4Q+b7AuiKD8NZ8IlLC3qqk4qbSziQznSExIpSHkt9u+ojNLSOIy4lmSVGSS3M9j9HoH6s7Otpa2Xc3NhGgV8BhyVLlynUtMx2UJNS3HFqMkoQlJGZqMyIiIzMNLXjJmU4In5vsC6IoPw1nwh832BdEUH4az4ROKeZQychTqCaJPGazUXCSdt99/Ztt9Y+VdY19xXxbapnx5sGayiTFlRnUutPtLSSkOIWkzJSVJMjJRGZGRkZBpK8ZMynBEfN9gXRFB+Gs+EPm+wLoig/DWfCOuBlWL2k4qysySrlzD862jsTG3HT82eJiT6qTM/2Txk2v/AsySrY/QJQNLXjJmU4ID5vsC6IoPw1nwh832BdEUH4az4RI2d7SUkd+Xc3EGAxFbS6+7KkIaQ0g1cJKUajIkkavQRn6N/QO4NJXjJmU4ID5vsC6IoPw1nwh832BdEUH4az4RPgGkrxkzKcHmZ8CvwOvk5XikJmrdq2lS3mYiCaZlMoLicbcbTslW6SVsrbdJ7GR+0jukU7qD9Ask/pEz8lYuIZ/aHjFNU+fj9lzI/Caqfh4fcAAGYvAAAAAAAAAAAAAAAAAAAAAAAAAAAAAAAAAAAAAAAAAAAAAAAAAAPL6pf7ssu/oM/8A/OsQgm9Uv92WXf0Gf/8AnWIQauRfpb/tChlX59wMqYvh2pGplBnGBw6fFYeLyNTbaU7dv2z7lkx2Fv26jZhFFJsnN2+FDhyfVMyVwntwnqsBZqpznhFVzJ1dmV05ldf2OdXbuoL2a5BCyHHTt31Mw6BorDzZw4Bq7KO0TLde43JShKnFrT66jdNJ+CpdQrx/SujssD1Qym9sF6UfLObOOXsqY9W2bbtYppxRKWo4jqm12W6EEjjbbNRkrhJR7plxm5sR6G6aiQ+2ppRp9pEotj2/5iLwzFq/BsPosJqXpD0HH6yLVRnJKkqdW0w0ltClmkkkajSgjMyIi332IvYPObOcXWfGDMl/qRByjXmttKPJHshoKrMqxyD5hI86jmZ4teqd812M21GpSdjNHoNaTI/Sk9qsuM/dyXB8qo1ZpYy6jIdNJFwol53Lt5Ds+NIjuOdosm2moklLLyzkRIp9klG3EhKNuL+g4BNlM/Ei0iPgyMzmcF7KZEK+1OtIel680lR1XaMpksNdknHqx2Aydml4nEMuKcfdJROkTrnDupRuGSvOFfagXOE6g5Ba59mUeRimk6r+gW3byYhrcbsL7zGe8hCkk645GiwzWThGlwtu0SrZO23AE6LaaTYqHW19clvSiS5txO55UrVt7NzYkGM+ZTkOZ4/ouzmUPUHLXLa+x7UJuW8/eSnEJKLFnOxFNNmvgZcZNhskONpSvYj3Ue5jcICarPOm+9EV3Rdcy27l2D5L5QUyBVauy6mTiUNxE2pcziUlV3cuw90x2q1cns+xjtKJxRoaLieWkiPdpwjrO51huoOD4tcN5lcMZBRYdhtg4uwzKRFN9LjbT0uU1WtNKKxbNtSykPSl8KOBWxo4VGe8AETZzPxTFcR8GNKLUDHsRfu7jMMltI2GsRtTLOamstX4hvLRlzKWVNOMOIUTp9qaELSoj/amXERKMfSvy2ip9NsVgyNXnr5/JsgnT7J9rVWS1V1jxReJFSu4QqRLIm0KZ7NltZG84hbhlwqNI2OAaOcTPjBgCpzmZPx+zzGyzy1azF3TOsitq+XpLbzkqLcTGJaey40Ep5tCWe03bJaTcNSiSpxW9n1mY3TmW1xNZ1du6gvZtkELIcdO3fUzDoGisPNnDgGrso7RMt17jclKEqcWtPrqN00nrAAizmPiTaX/AAZr8nmbfxbfSpM7L8jtzzHSb5fuPlW2kTEvWDa6zheQl1aksntMeIybJJK3SatzIjGlAAd005sXOKpzpvQGoP0CyT+kTPyVi4hTuoP0CyT+kTPyVi4hUy/8lHzn7LOSfmq3fcAAGYvAAAAAAAAAAAAAAAAAAAAAAAAAAAAAAAAAAAAAAAAAAAAAAAAAAIfMqd/IcQvKCKpKXrKtkw2zUfoJTjSkEZ//AGY8LT3Ea3jcaD7KS16kqKs9nYzpfvNrT7UmR7l/x9pbkZGLSEPcYbiGQvlKv8Vp7J5JcJOTILTyiL+7daTMXMmymLGJpqjwV7ewm0mJiXlAE381umX2dYx+ER/AHzW6ZfZ1jH4RH8As67Zbfbmr6rXs63IQBN/Nbpl9nWMfhEfwB81umX2dYx+ER/AGu2W325mq17OtyEATfzW6ZfZ1jH4RH8AfNbpl9nWMfhEfwBrtlt9uZqtezrchAE381umX2dYx+ER/AHzW6ZfZ1jH4RH8Aa7ZbfbmarXs63IQB5Dym8Dweg8m3Ve9osMoq6yrsHvZcOZErmWX4z7cB5TbrbiUkpC0qIlEojIyMiMhZXzW6ZfZ1jH4RH8Aa7ZbfbmarXs63IQBN/Nbpl9nWMfhEfwB81umX2dYx+ER/AGu2W325mq17OtyEATfzW6ZfZ1jH4RH8AfNbpl9nWMfhEfwBrtlt9uZqtezrchAE381umX2dYx+ER/AHzW6ZfZ1jH4RH8Aa7ZbfbmarXs63IQBN/Nbpl9nWMfhEfwB81umX2dYx+ER/AGu2W325mq17OtzwuYGmzqJWJQlpds7xhyDHjpPdeziTQpwy+pCEmalKP0ERf3mRHcQjKbF8Zxwllj2O1lWTv7/mURtji/jwEW4kxUynKIt7opjwj7/8AxYsLGbK+Z85AABVWAAAAAAAAAAAAAAAAAAAAAAAAAAAAAAAAAAAAAAAAAAAAAAAAAAAAAAAAAAAAAAAAAAAVV5WPusayfd/kP6c+LVFVeVj7rGsn3f5D+nPi1QAAAAAAAAAAAAAAAAAAAAAAAAAAAAAAAAAAAAAAAAAAAAAAAAAAAAAAAAAAAAAAAAAAAAAAAAAAAAAAAAAAAAAAAVV5WPusayfd/kP6c+LVGKf7UrQ7Kc90Sd1U0zlWkXK8Liyo01FY6427ZUEtJNz4qybMjcQREhw0q3TwJeLYzWLS8hvRXItHdDIEjUSwsLLUDM3CyPK51k+t+WuY8hJIZdccM1GbTKW2zIzMuMnDL94BoQAAAAAAAAAAAAAAAAAAAAAAAAAAAAAAAAAAAAAAAAAAAAAAAAAAAAAAAAAAAAAAAAAAAAAHHc2HyTTzrXg4/M4zsjh/xcCTVt/0Hk047Xy0lIvYjNlMWW7rslsnPW+skkrckJ/uItvR/wAxP5n9D73+mSvylDlHzXbX+S2ps6vGIi+74XzM8mjkf4aJqjzvRfKuL9N1fc2/gHKuL9N1fc2/gJQBj6Cy9McIXM+rFF8q4v03V9zb+Acq4v03V9zb+AlADQWXpjhBn1YovlXF+m6vubfwDlXF+m6vubfwEoPL5tqpphpocItR9R8XxU7LtPM/lu4jwfOez4e07Ptlp4+HjRvtvtxp39pBGTWdU3RRHAm0qjzlKcq4v03V9zb+Acq4v03V9zb+A/OLZfiec0rOR4TlFTkFTIUtDU+qmtS4zikqNKiS42pSTMlEZHsfoMjISwTk9lHhNEcDSVYovlXF+m6vubfwDlXF+m6vubfwHTV21VeQW7Ols4lhDdNaUSIryXWlGlRpURKSZkeykqSfp9BkZfUOsNXsvTHCDPqxRfKuL9N1fc2/gHKuL9N1fc2/gPq3fUTtk3TNXUBdg8y9IbiJkoN5bTLiW3lkjfiNKHFoQoyLZKlJI9jMiHeGr2XpjhBn1YovlXF+m6vubfwDlXF+m6vubfwEoAaCy9McIM+rFF8q4v03V9zb+Acq4v03V9zb+AlADQWXpjhBn1YovlXF+m6vubfwDlXF+m6vubfwEoAaCy9McIM+rFCTYUTGYj15Rxm4TkJBvuNsJJDbzaS3WhSC9U90kex7bkexkY98PEZV9F7j+QkflqHtxudhzm1WlnHlEUzd886/6Qo5b4xTVPn4/YAAH0KgAAAAAAAAAAAAAAAAAAAAAAAAAAAAAAAAAAAAAKsynUrU75zrLTXTLTzF7t2loay8ny73KpFSkkzpE5lptpDNfK4zI6501Go0bcaCIj9O1piqsc96fUP7v8N/UcjAOY/Kn+xvSr/Mux/0IOY/Kn+xvSr/ADLsf9CFqgAqrmPyp/sb0q/zLsf9CDmPyp/sb0q/zLsf9CFqgAqrmPyp/sb0q/zLsf8AQh5zUi/8oF7TvKWs10w0uq8eXSzk205rVOzjriwjYX27qXU0XE2aW+JRLL0p23L2C+B8pUWNOjPQpsdqRHkNqaeZdQS0OIUWykqSfoMjIzIyP2gP5ieQhrH5fmc4vMhZ1jK8m0sVWySLJ8ncVGmts9irhVFkGXaTiP0+laFkZlsbrY/o6OnMiJOHXiUkREVZKIiL/wCJQ5h812v/ALMf+Y+stHJP09/IAAGYtAAAAM1+UZmBYT5QGl1ueqmDYB2mK5Yx8qZhH7aC5vJpD7FKfPIn7U+HiI+0P0IX6p+1OlAHdnXmVXuaozouZT1E1aymqq6HMsM1Uo82VnNXPwKJPxdxRU6MmdeSqrfaYKTIJo0pVJS6rtVKPs0bmkiSlPm8r1IewzVaFBr86umzxnMqDHLE7zOJBvFWqZisPPLqUtGwqK6b3F59Jc7U33DMl7dmgbQAetNtTH/LmaJn4sEwtTpmAaRalx5WcTaRcvSiwfxVlM9xla7ZuzyInnISSUR+cJ44JrW366UkyajIkkZeszrV1+s1iamwsusK9dXm1HTWbFjmb7fYVzzUZp5ZUzbXm5QlnI3KZIcJztl+qsi7NA2UA61imZvmn3+SNHMRdewJjGSX+J4pJptOcwv1ya+jzdVyw3cSbCRXyG8mr0Pum26txSJLUJ5x1JGXFu6a9jN1Rq9uV2u81LpMQ091Sya004nZrVRGrKHlUuYch1dFdPT4SLA3VOuNEbEFZpJ0+zcWfCaFJLh2IATlETf4Ymj2qw8naxs52AWES0tZ1kqnyzJqaNInSVyZBxIlzLYjpcdcM1uGlpttHGszUZJI1GZ7mdngAr1TnVTL0iLouAABykAAAReVfRe4/kJH5ah7ceIyr6L3H8hI/LUPbjX7E/VtflT9alTLfy07/sClPK8rvlfSGHVHRVd155mmIMfJtovhhzOLIIBdi+rs3Nml78Kj7Nfqmfqq9h3WA+hZ7Gut1Hfad4DOpsZ01wjTadOxfM5rTWEIYkqcdZqEqadS8uBHW06pRcBk2jc0kn199iT6KDqjqGVhb5BQapv5LSVOoOOYrWxSjVyo1nBm0tU844t9phKlLW9OcdSttSEkexbGjZJaoABjPBtadbMi0/tMis9YsIhTVUFbOsGnrFtbmPT3ZjCXWHtqtCK4jbVJZ4ZfnSmnEIWrjQh01LryiMth4rT5M1q1MRAhItkyme2pDtbh5iQgkKhH5ucS1aJPE2TcRcZ5ZqSX757J2YADPPlIYwWYaraTVJ6dYjmxKbv3fkrKnuxgnsxH/aGfmsn107+guy+s/SQ83nGqN9orBzLD454vgKqzCKKwxahp0sOQ2rB6ys25xw+OMycgiQiEpxJtElviJXCnjNStVAAyZYava2UdHJy+oyKTks+fcalVdbjzlbFJg1U79oVa22bTSX1Of7A02e7h8ZLPcuLZQ5Mpz0pthp/Op/KZlZXTIyh+PImlCrmo7kh3H5y2oLzzccmHuNxKUkySScSb/Co1L7JSNfAAx5hGs2elW41H52Yr7dqRg9dT4ZHroLTV5UzolaqfPS2TJPElo5NhsbCkMslA9ZPCSiP3GgOoOpF5bacJzHN5N83nGAWWRy2noMRhEaXFlVzaDZ7BpCtlInr4yWpRboSaeD0keiwAAAAAAAAAAAAAAAAAAAAABVWOe9PqH93+G/qORi1RVWOe9PqH93+G/qORgLVAAAAAAAAABwZBAdtKGyrGTInJkR5hBn7CUtBpL/uICusWbBklJPgeR6rzKvQtlf1pUXtIyMeuHBPx+htHSes6SBMcItiW/GQ4oi/iojGV2h2fVlVUWlnN0x4ePxWrC3iyiaao8EWA6uTMP6Tpu4NeEOTMP6Tpu4NeEZ/dGU408Z5PfW7Pb1vcoDq5Mw/pOm7g14Q5Mw/pOm7g14Q7oynGnjPI1uz29b3KA6uTMP6Tpu4NeEOTMP6Tpu4NeEO6Mpxp4zyNbs9vW9ygOrkzD+k6buDXhDkzD+k6buDXhDujKcaeM8jW7Pb1vcoCv/KboqOg8m3Ve9oqaDXWVdg97LhzIkdDL8Z9uA8pt1txJEpC0qIlEojIyMiMhZXJmH9J03cGvCHdGU408Z5Gt2e3re5QHVyZh/SdN3BrwhyZh/SdN3Brwh3RlONPGeRrdnt63uUB1cmYf0nTdwa8IcmYf0nTdwa8Id0ZTjTxnka3Z7et7lAdXJmH9J03cGvCHJmH9J03cGvCHdGU408Z5Gt2e3re5QHVyZh/SdN3BrwhyZh/SdN3Brwh3RlONPGeRrdnt63oDIlJl179FHUS5lk0qM00R7q9cuE1mX1JSRmZn7PR/Ae4HHX01PU8XyVVQ4fH+95uwlvi/jwkW47Bp9nZDVkmdVXN81XeXldF/OVfKLeLW6IjwgAAGkrAAAAAAAAAAAAAAAAAAAAAAAAAAAAAAAAAAAAACqsc96fUP7v8N/UcjFqiqsc96fUP7v8ADf1HIwFqgAAAAAAAAAAAAAAAAAAAAAAAAACqvKx91jWT7v8AIf058WqKq8rH3WNZPu/yH9OfFqgAAAAAAAAAAAAAAAAAAAAAAAAAAAAAAAAAAAAAAAAAAAAAAAAAAAAAAAAACqsc96fUP7v8N/UcjFqiqsc96fUP7v8ADf1HIwFqgAAAAAAAAAAAAAAAAAAAAAAAAACqvKx91jWT7v8AIf058WqMU/2pWh2U57ok7qppnKtIuV4XFlRpqKx1xt2yoJaSbnxVk2ZG4giJDhpVungS8WxmsWl5DeiuRaO6GQJGolhYWWoGZuFkeVzrJ9b8tcx5CSQy644ZqM2mUttmRmZcZOGX7wDQgAAAAAAAAAAAAAAAAAAAAAAAAAAAAAAAAAAAAAAAAAAAAAAAAAAAAAAAACqsc96fUP7v8N/UcjFqiqsc96fUP7v8N/UcjAWqAAAAAAAAADjubD5Jp51rwcfmcZ2Rw/4uBJq2/wCg8mnHa+WkpF7EZspiy3ddktk5631kklbkhP8AcRbej/mJ/M/ofe/0yV+Uoco+a7a/yW1NnV4xEX3fC+Znk0cj/DRNUed6L5Vxfpur7m38A5Vxfpur7m38BKAMfQWXpjhC5n1YovlXF+m6vubfwDlXF+m6vubfwEoPL5rqlpjpqcJOouo2L4qdl2nmZXdvHg+c9nw9p2fbLTx8PGjfbfbjTv7SCMms6puiiOBNpVHnKU5Vxfpur7m38A5Vxfpur7m38B01NvU39bGuaKziWNfMbJ6NLiPJeZebP2KQtJmlRH/eR7DrDV7L0xwgz6sUXyri/TdX3Nv4Byri/TdX3Nv4CUHzVIYS+iKp9snnEKcQ2ai4lJSaSUoi9pkRqSRn9XEX95Bq9l6Y4QZ9WKP5Vxfpur7m38A5Vxfpur7m38BHZZqbpvgUiJEzrUHGscfn7+aNW1tHhrkbHsfZk6tJr9JkXo3HpELQ4hLjaiUlREaVEe5GX95CZyaziL8yOBpKsUZyri/TdX3Nv4Byri/TdX3Nv4DprbaquWHJNPZxJzLMh6I45GeS6lD7LimnmjNJmRLQ4haFJ9qVJUR7GRkOsRq9l6Y4QZ9WKL5Vxfpur7m38A5Vxfpur7m38B9W76idsm6Zq6gLsHmXpDcRMlBvLaZcS28skb8RpQ4tCFGRbJUpJHsZkQ7w1ey9McIM+rFF8q4v03V9zb+Acq4v03V9zb+AlADQWXpjhBn1YovlXF+m6vubfwDlXF+m6vubfwEoAaCy9McIM+rFCTYUTGYj15Rxm4TkJBvuNsJJDbzaS3WhSC9U90kex7bkexkY98PEZV9F7j+QkflqHtxudhzm1WlnHlEUzd886/6Qo5b4xTVPn4/YAAH0KgAAAAAAAAAAAAAAAAAAAAAAAAAAAAAAAAAAAAAKqxz3p9Q/u/w39RyMWqKqxz3p9Q/u/wAN/UcjAWqAAAAAAAAACGzP6H3v9MlflKHKOrM/ofe/0yV+Uoco+a7X/wBmP/MfWWjkn6e/kAADMWgUPq5LzeF5SemLuA49RXNieH5clce4uXq1hLPndHxLJ1qLJUaiPhIk9mRGRmfEWxEd8AOqKsyb7r3NUXxcxpqBAttJ6Sq07ssgegXtuzlOUtx6rLpWO1fn0ual5uLCVHYXKnSGlPmTUYkpQ4SnFrbM1ISnihZ3qJmWB5zqfjWb3dncwMBxaVBahWzyYcZ6XGX8pyUsMkts3SShZ7m04ba2jNKOLcj2wA94yiLvGPH+73Gj2sZ49b5RkV7itJA1QQ/iVvqBDgpTjGoNnerSkqG1elRl2rzTLi21qZiudmlazaWSjI2z4OGS0slR3ddsBfyzLbh16A1qZjdO5YX8ozlnDyOK1FjKJbu0p0oqHNyWS1rTHStfEplKka6ARNvf5R14kWe1mrWe6xPEdUb68j6vYth2QWeOw6+wqc4qSfqr6E2uSppEVfaMuKWRvvocSyt395HEyZ7cVYWmoGplhbwGmV1Wmct3G8Xfwyhs8wn1CIa3WUqejtVcaG4i02e4o7jbnrIQhBEhrfiPcgBTbxTHjF6Zs7/iwtPyjJaeQ3WS8hh0WJSMj1GeOXNzeXirC7ROTPpbI5kVh1TjqGlOKbjr2Q5u4o0udnsXuqHLJjuX19frjq1e1OUs1uJnj0ehmyorN2682jz11mAaElLS7JN1DpOsKUwySVbMGXGNXgJm3ifh1eiLOY+LAmMZJf4nikmm05zC/XJr6PN1XLDdxJsJFfIbyavQ+6bbq3FIktQnnHUkZcW7pr2M3VGr25Xa7zUukxDT3VLJrTTidmtVEasoeVS5hyHV0V09PhIsDdU640RsQVmknT7NxZ8JoUkuHYgCZyiJv8MTR7VYeTtY2c7ALCJaWs6yVT5Zk1NGkTpK5Mg4kS5lsR0uOuGa3DS022jjWZqMkkajM9zOzwAV6pzqpl6RF0XAAA5Si8q+i9x/ISPy1D248RlX0XuP5CR+Woe3Gv2J+ra/Kn61KmW/lp3/AGB5rUTDsQzjFJtPmuK0+QQG21yURbSC1LZS6lCuFwkOJNJKLc9lbbluY9KA+hZ7B+GZK5o/otjzeAWNRgMn5nMfyikh19PAQrOMkcjPE7Ee42TckrI2YSTSypDx+fGfF+7tYl55QOZQijY83mcZjJm8xzOFOryYjKkMVsSttpNelaOD1El2EJxCzIjcSkjM1kpW+rAAZGyPUbWahw/Ib9GrVi9JxnSKHnxpVVVpIl2S1zXVtLIo+6Y5pYQ1wJMlkkiPtOPiWrjyLykc5rdSrKNBzqM1Vv2eUUKauW9DN+tfgw5aorio6YhOMm89DNTJvynO3bWaktER+psUAGTGtRtYqlT0+XqpPsEV9fp7bqju1dehuQq6slxZzCzRHJRM8DPE3wqJxClqM3FlwpLzcXXrXiRheaZO7qFjEa3rsYurCRQoktTJ1BPYkIQwSopV7Rx0o3WhSJMh43fVU2eyVGe1wAZVvMpzOBr5iuG5Fq1bnUU2oEeK3IkN18c5ZS8clOtw3jRHQhZKfSaGyIkrM3zIjNaWlI6vKYhYCrUVu0yvJtN3ZTOOJYRjuo0RbUCQ2b7yu2rZpnszKMyNDvZNvOElMYzSj1DXqAAGQ8X1n1Yus9o6eLaVmDV/aYuiuxLI7QzsplbKgw3pe7CoLsqU8hTsxjtkymkoci8TqdkuGvyWmGqWq9VQae4dRZljeMwY2LYuuph289LB3qpC1JkJQz5hIelbcJNcLDzKmjMlr3JRGN0gAxvqHqdk99pxqIUzXKbU5HDK9TOxWJXxCcpIMO1S0zI7UmTdjpVESlSlyFLS8mQa2uAiLboj6tXEGzsq+Tq5Fw7GXJ+VSmMnjQatPynNjLglEYUtbBsOKcbfkPGSUE69weooiQoj2AADKeHas60WrnNeUZHIrHGM5xPHJWMfJ0VMdhuxoqiRMaWtTRyONEmwfUk+0I0mkknxJ9UtWAAAAAAAAAAAAAAAACqsc96fUP7v8N/UcjFqiqsc96fUP7v8N/UcjAWqAAAAAAAAADgyCA7aUNlWMmROTIjzCDP2EpaDSX/cQFdYs2DJKSfA8j1XmVehbK/rSovaRkY9cOCfj9DaOk9Z0kCY4RbEt+MhxRF/FRGMrtDs+rKqotLObpjw8fitWFvFlE01R4IsB1cmYf0nTdwa8IcmYf0nTdwa8Iz+6Mpxp4zye+t2e3re5QHVyZh/SdN3BrwhyZh/SdN3Brwh3RlONPGeRrdnt63uUB1cmYf0nTdwa8IcmYf0nTdwa8Id0ZTjTxnka3Z7et7lAdXJmH9J03cGvCHJmH9J03cGvCHdGU408Z5Gt2e3re5QFf8AlN0VHQeTbqve0VNBrrKuwe9lw5kSOhl+M+3AeU2624kiUhaVESiURkZGRGQsrkzD+k6buDXhDujKcaeM8jW7Pb1vcoDq5Mw/pOm7g14Q5Mw/pOm7g14Q7oynGnjPI1uz29b3KA6uTMP6Tpu4NeEOTMP6Tpu4NeEO6Mpxp4zyNbs9vW9ygOrkzD+k6buDXhDkzD+k6buDXhDujKcaeM8jW7Pb1vcoDq5Mw/pOm7g14Q5Mw/pOm7g14Q7oynGnjPI1uz29b0BkSky69+ijqJcyyaVGaaI91euXCazL6kpIzMz9no/gPcDjr6anqeL5KqocPj/e83YS3xfx4SLcdg0+zshqyTOqrm+arvLyui/nKvlFvFrdER4QAADSVgAAAAAAAAAAAAAAAAAAAAAAAAAAAGYZub5E3oLlzvN1km/Z1Vm0cZfn7hS20uZZwR4iD4uMknEcaShsvR2KkkRcAhtTPKD1mr9M8qyKFNxmCiSrUWqqVRq2R51Ccol2KY8hTipBoWpaK9RGkkJIlrSstyI2zDW4DNmPZxmUzykIOI2t0pTUGfJjTChPymos5XL9dI4zjOvuobInHlmlCNiLfc+JZrWr563UtfjWsdVe/K+fvwl4Vl2Tz6ivzm6isTJVeurNhLbLUom29kvvpJCEkg+0PdJ7FsGlwGYIOvWvzmPRpNjiuNQJV1KxdqrmSmmTaS3azTjuKVFi2chxxCE7ONum4yTpktPAnhMxJ1GruuN3ktbQx52DMN2+R5NjjLy6SWtTB1a3ezkKSUwuMnCZUlTZGnY1EslntwGGjBWlBU2rPlJZ1evVktFbMwfE4keYplRMPPsz79TrSHNuFS0JfZUpJHuknWzPbiLen8J8ojUPN7PDnMeg0VbJ1Bk46l1U8pk1mE1LxWdbOdmz5whJKS5EQguDgJSTVxbqMllzWflaahxKGPfQqiklJoWYaspabgGTZLet5Fek23nZrZsE55o4ptKW5ayM9lkRcJrDWgDIc3XnUnCJ17dXkutvjgSs68wb4ZURqM3BmwWI6HkpkKacbT25qUtTZrQhKuA08SzV7V3WLWFjVGJo155hr1o5dogv3iKeUmMmO5TyJySKJ52aieSuOSTI3zI0OoVsR+gw0OAz/lmreUXHktVGox2DeOz7qTSwbmzgFsiriyLRiJPmNdpxdmTbK33EqUauz2JSjUSDM/8Ac1ms6HQ5SNMdQbC0v7OZjMBuiym+l3jEZuwu41ec/wDbvKlI3TJWREl5LRqaIyQZkrcL/AY/vNd9UcHyW6u1za2fXYtT59ZWFWhiVw2b9WurJpSFvSnPNU7ylGSS4kNo7QiSfESkexTrF5QLcirxq0x7Gqm0uMmgU8adPiNLQUaRAmyHFqhRLSQpKkKiINKlSEk6lwyJKTI1gNHgMhXnlR51iOPZDZ0FZXTm8Rn5BYXkeQ09INMNGT2cCIXnMme2bPapgPElLaZHCpPChlttLbZ69AAAAAAAAAAAAAAFVeVj7rGsn3f5D+nPi1RVXlY+6xrJ93+Q/pz4tUAAAAAAAAAAAAAAAAAAAAAAAAAAAAAAAAAAAAAAAAAAAAAAAHnHdNtOn8uRqA/gOOOZQ2RJRdrqmDnpIk8JEUg09oRcPq/vez0D7u4NhL8ZMJ/D6RyOl2bIS0uvZNBOzDcOWskmnbieN543D9rnar4t+I95wAHn6fT7AsefjyqDCKCseiESY7kOtZZUyRMoZIkGhJGn9k2236P/AEISn2JIilH6epk2ca7k1cR2xhsPRo0tbCVPMsvG2braFmXElKzaaNSSPZRto334S27AAeYp9L9M8ejuRKDTvGKxh6WzYONQ6iOyhcplXE0+ZIQRG4hREpK/3kmW5GQkmMUxeLIZlxcbqmX48mRNZdbhtpW3IkcRvupMi3JbnErjUXpVxHuZ7mJUAEBXaf4HTrgOVOE0EJVWbJwVRq1ls4psxlxWuy4UlwcEdxxlPDtwtrUgtkqMj8KjGdJck1Xv9OLPRnEZC8exesskz36uM6brFrLtW3YpIU16iOKG6tXrGThyl7pLYzXbIqrHPen1D+7/AA39RyMB7GPprpzDnS7OJgGOMTJ6Hm5chuqYS7IQ6hCHUuKJO6yWhppKiMz4ibQR7kktv3R6d6f4wzEj43guPVLVfIcmREQaxhhMd9xs2lutkhJEhamzNBqLYzSZkZ7egehABHxcfoYNNy7CpIEep7JbHmDUZCI/Zq34kdmRcPCe57ltse5iFotKNLcWrXabGdNcVqK96XHsHIkCmjx2VymHEusPqQhBJNxtxtC0LMuJKkJURkZEY9UACAf0/wADlTGbGThNA9LjSJExl9ytZU42/ITwPupUadyW4n1VqL0qL0GZkPlR6aacYzGYhY3gGN1MeLM+UWGoNUwwhqX2Zt9ulKEkSXOzUpHGXrcJmW+x7D0gAPJ2OkelNu4T1tpjic1wkzEcciljOHwy1uOSi3Ug/Q8t55Tn+NTqzVuaj39PGjRoUZqHDjtMR2EJaaaaQSUNoSWyUpSXoIiIiIiIfUAAAAAAAAAAAAAABVXlY+6xrJ93+Q/pz4tUYp/tStDspz3RJ3VTTOVaRcrwuLKjTUVjrjbtlQS0k3PirJsyNxBESHDSrdPAl4tjNYtLyG9Fci0d0MgSNRLCwstQMzcLI8rnWT635a5jyEkhl1xwzUZtMpbbMjMy4ycMv3gGhAAAAAAAAAAAAAAAAAAAAAAAAAAAAAAAAAAAAAAAAAAAAAAAAAAAAAAAAAFVY570+of3f4b+o5GLVFVY570+of3f4b+o5GAtUAAAAAAAAAHHc2HyTTzrXg4/M4zsjh/xcCTVt/0Hk047Xy0lIvYjNlMWW7rslsnPW+skkrckJ/uItvR/zE/mf0Pvf6ZK/KUOUfNdtf5Lamzq8YiL7vhfMzyaOR/homqPO9F8q4v03V9zb+Acq4v03V9zb+AlAGPoLL0xwhcz6sUXyri/TdX3Nv4Byri/TdX3Nv4CUANBZemOEGfVii+VcX6bq+5t/AOVcX6bq+5t/ASgj77IKDFamRf5PeV9PWRE8cibPkojsMp323W4sySktzIvSYavZT/xHCDPqxfPlXF+m6vubfwDlXF+m6vubfwH4xfL8TzioRf4VlFRkFW4o0Im1c1qXHUovaRONqNJmW/pLcS4Tk9lHhNEcDSVYovlXF+m6vubfwDlXF+m6vubfwEoAaCy9McIM+rFF8q4v03V9zb+Acq4v03V9zb+AlADQWXpjhBn1YovlXF+m6vubfwDlXF+m6vubfwEoAaCy9McIM+rFF8q4v03V9zb+Acq4v03V9zb+AlADQWXpjhBn1YovlXF+m6vubfwDlXF+m6vubfwEoAaCy9McIM+rFCTYUTGYj15Rxm4TkJBvuNsJJDbzaS3WhSC9U90kex7bkexkY98PEZV9F7j+QkflqHtxudhzm1WlnHlEUzd886/6Qo5b4xTVPn4/YAAH0KgAAAAAAAAAAAAAAAAAAAAAAAAAAAAAAAAAAAAAKqxz3p9Q/u/w39RyMWqKqxz3p9Q/u/w39RyMBaoAAAAAAAAAIbM/ofe/wBMlflKHKOrM/ofe/0yV+Uoco+a7X/2Y/8AMfWWjkn6e/kAADMWgAAAFIeUS9VU+XaWZjnEbtMGob2W9cPOsm7FgSlwnUQpklOxklpDhrT2ii4W1utqM07cRXeA6oqzJvRMXxczBmGQ6caiZViJaR3NhDr8oz+PAyTIMYmPQI98hNFaOdiiZHWk5HCTTRKcbV6qib2XxtlwQtRml0rMasm9Q7/5w3s6yGDkePlYyJTcDHmisSjPfJfEpttpLLVe42+lslOrWguNZumk9cgPXTREXXddfRxmTiw/juauOYXfY83rchbkWNRyZ2WM51Zz6aWfnRk41LfV/tOPyJBJUlxDbnA2lSTLYyNJy1NqJR3CceY1D1CyTEsDRWZAUW0azmU6xPtmZrKWyj3CTaenNJZU4cdDpmbpdpxIcNr1dlAOpt4n4e+z5I0c4se47lesjsnB9NMyu7+JkGrVZiuQPPdu6y9WriRkryBhvYy82SpESMk0o2InbFexEZmZ+Ge1B1adwzN7WRqFDrsphYpmknI69nOLGVZxVtRZJxlIq/NUM1SmHksdk626njbPclOqUShvsAjKIj/nrrmaOcUHhFKjH8UraxFjZT1IZJ1yVYzXZch5xwzWtSnHVKVsalK2SRklBbJQSUpSkpwAFeZvm96eQAAISAAAIvKvovcfyEj8tQ9uPEZV9F7j+QkflqHtxr9ifq2vyp+tSplv5ad/2BU/lNnMTpk2akz1UXy7U8zlBJw3vkTzxvzz/wAP1+y7PfteH09j2v1bi2AH0LPYzyLIcTxTJptz5IlvQVeMqp6+FfS8WYjPUrdnIvq1iJwIbI4xyTiu2ZOcJcfAbJr2/ZGUrmmr+reN5DZYR84sOFVVWZzad7K7yZBqTQ0VLXT48Z2Qde/FQpS50kkmcYjUmOlPESjM1a3ABQOe6j5tj+i+mOQ3OoFfRWF/b0kO+vq+Kg43m8htRvvNpmM7MpUREslONl2ftUXCRkddv665y5UuLttZDoKWPBymRj+TlCrz5pfh2HYwm/2jJsubs7HwRkNrf342zJJGNW32L0WTnWneQfOTqLBq0h/tVo7KU2SiQv1TLi24leg9yPf0kJUBkvBc41Uy3P8AldWRuYU7bzb2VatVlRAJ9uQxV0a0JNTzC+Jbbkt4jWslKUnZJmZJRw+h8lzO8gz3MLHJMszN9+xyHAsOv0UajYQwyUmEpb77DZIJ0kdsay34lJ3WZH7EknSYAMl6Vq0DNdWepMeGvXJOUOHZJQSyyfz7z9fCouy2k/JpN8Jlt/svmvt9Tch8K7VjUJvHMXs8812lYxX5DUZFbKu3K+rab8+iSmGYdc32sc29jZU86aDI3nVIUaFpSg0FrsAGTazXHUtvN8fYzHNGK+bdwK014tXtxHXquU9UIffKbAdZKetpMg3FlIjSFJJJJQpsuzcUcXi2vWayq+FS3OsfGwdzUxskzKE9TzqyqiyIVi5xxZbcZtlvtJUOMypuXH7RkpTZmau0QadjAAyPV606yOlUY3zO5NkakSJVPhtuVdGIyTAu32ZFlsTZNrN6oWxNQRpNtRxnFISSF8JQc3XvXNvFdTMnPP8AGodpj+LZnYqx0pbUmfSvwEveZO+aFXoUzwmhrfzmS8h5LnEgjIyItqAAj6CvsKqnjQLW+lXMtpJ9tOktMtuPKMzPc0soQhJFvsREn2EW5me5nIAAAAAAAAAAAAAAAACqsc96fUP7v8N/UcjFqiqsc96fUP7v8N/UcjAWqAAAAAAAAADgyCA7aUNlWMmROTIjzCDP2EpaDSX/AHEBXWLNgySknwPI9V5lXoWyv60qL2kZGPXDgn4/Q2jpPWdJAmOEWxLfjIcURfxURjK7Q7PqyqqLSzm6Y8PH4rVhbxZRNNUeCLAdXJmH9J03cGvCHJmH9J03cGvCM/ujKcaeM8nvrdnt63uUB1cmYf0nTdwa8IcmYf0nTdwa8Id0ZTjTxnka3Z7et7lAdXJmH9J03cGvCHJmH9J03cGvCHdGU408Z5Gt2e3re5QHVyZh/SdN3BrwhyZh/SdN3Brwh3RlONPGeRrdnt63uUBX/lN0VHQeTbqve0VNBrrKuwe9lw5kSOhl+M+3AeU2624kiUhaVESiURkZGRGQsrkzD+k6buDXhDujKcaeM8jW7Pb1vcoDq5Mw/pOm7g14Q5Mw/pOm7g14Q7oynGnjPI1uz29b3KA6uTMP6Tpu4NeEOTMP6Tpu4NeEO6Mpxp4zyNbs9vW9ygOrkzD+k6buDXhDkzD+k6buDXhDujKcaeM8jW7Pb1vcoDq5Mw/pOm7g14Q5Mw/pOm7g14Q7oynGnjPI1uz29b0BkSky69+ijqJcyyaVGaaI91euXCazL6kpIzMz9no/gPcDjr6anqeL5KqocPj/AHvN2Et8X8eEi3HYNPs7Iaskzqq5vmq7y8rov5yr5Rbxa3REeEAAA0lYAAAAAAAAAAAAAAAAAAAAAAAAAAAAAAAAAAAAAVVjnvT6h/d/hv6jkYtUVVjnvT6h/d/hv6jkYC1QAAAAAAAAAAAAAAAAAAAAAAAAABVXlY+6xrJ93+Q/pz4tUVV5WPusayfd/kP6c+LVAAAAAAAAAAAAAAAAAAAAAAAAAAAAAAAAAAAAAAAAAAAAAAAAAAAAAAAAAAFVY570+of3f4b+o5GLVFVY570+of3f4b+o5GAtUAAAAAAAAAAAAAAAAAAAAAAAAAAVV5WPusayfd/kP6c+LVGKf7UrQ7Kc90Sd1U0zlWkXK8Liyo01FY6427ZUEtJNz4qybMjcQREhw0q3TwJeLYzWLS8hvRXItHdDIEjUSwsLLUDM3CyPK51k+t+WuY8hJIZdccM1GbTKW2zIzMuMnDL94BoQAAAAAAAAAAAAAAAAAAAAAAAAAAAAAAAAAAAAAAAAAAAAAAAAAAAAAAAABVWOe9PqH93+G/qORi1RVWOe9PqH93+G/qORgLVAAAAAAAAABx3Nh8k08614OPzOM7I4f8XAk1bf9B5NOO18tJSL2IzZTFlu67JbJz1vrJJK3JCf7iLb0f8AMT+Z/Q+9/pkr8pQ5R8121/ktqbOrxiIvu+F8zPJo5H+Giao870Xyri/TdX3Nv4Byri/TdX3Nv4CUAY+gsvTHCFzPqxRfKuL9N1fc2/gHKuL9N1fc2/gJQA0Fl6Y4QZ9WKL5Vxfpur7m38A5Vxfpur7m38BKAGgsvTHCDPqxRfKuL9N1fc2/gHKuL9N1fc2/gPxCy/E7KBZWtdlFRKhUsiREspLE1pbUJ+OZk+08slbNrbMj40qMjTse+w7aq1q76rh3lHZRbGusGG5UOZEeS8xIZcSSkONrSZpWhSTIyURmRkZGQavZR/wARwNJVi5eVcX6bq+5t/AOVcX6bq+5t/ASDUhh5brbL7bimF9m6lKiM21cJK4Vf3HwqSex/UZH9Y5Le+osfiP2F9dQK2LFjuS335klDLbTDe3G6pSzIkoTxJ3UfoLct/aGr2XojhBpKsXy5Vxfpur7m38A5Vxfpur7m38BKAGgsvTHCDPqxRfKuL9N1fc2/gHKuL9N1fc2/gJQA0Fl6Y4QZ9WKL5Vxfpur7m38A5Vxfpur7m38BKAGgsvTHCDPqxRfKuL9N1fc2/gHKuL9N1fc2/gJQA0Fl6Y4QZ9WKEmwomMxHryjjNwnISDfcbYSSG3m0lutCkF6p7pI9j23I9jIx74eIyr6L3H8hI/LUPbjc7DnNqtLOPKIpm7551/0hRy3ximqfPx+wAAPoVAAAAAAAAAAAAAAAAAAAAAAAAAAAAAAAAAAAAAAVVjnvT6h/d/hv6jkYtUVVjnvT6h/d/hv6jkYC1QAAAAAAAAAQ2Z/Q+9/pkr8pQ5R1Zn9D73+mSvylDlHzXa/+zH/mPrLRyT9PfyAABmLQAAAAAAMPYfXW0ewvdLYMZ9dTrnnGVFLcQkzbYOBk1ii37RXsT29YiOyjf/1Nn7fYIag1RnYL5Ns+vl53OppknQPC5eLR02DjLqpXmUxMh2EklEfaJMmDdU36UpJtSzIiIxvoBa1mJ8466uh5aLCWK7bJsXw/Kc/xyTltpCsLfVJa7BuVqBKo4jMc6dL0cpUsu1eiNOqJzsijpbU8phDfEbbRoLwFlnkyww1nNbnP7eLmELS7NamC4WRy2X/P4NiSeyNBqbN2SiMROLNbROmSEOrSRoSaf6JgEZTEfD3Js7/iylJzG4LU15k86uk6hp1Nj1rGMFbvkwrFzW2S3fk7i7FTHmZuPnKNs1E8XD2hGXAPr5N1hkkeVodMsM1ya5cznTCwtbsra5kzUSJbCqg2XkodWpLS0plvpNSCSayXuvjURKGqAHE20TF13V3UpzPG+8AAHg9AAAAAAAReVfRe4/kJH5ah7ceIyr6L3H8hI/LUPbjX7E/VtflT9alTLfy07/sClfK7ryttIodWdHWXRTM1xBj5NtF8MOZxZBALsXz7NzZte/Co+zX6DP1Vew7qAfQs9jONeS9IZWpaoFLjuk9i5YYvSIoqCSwiqhMuvvH8uqkvxEsNtyUvLjqeOIrgVBJKkuKIiL54vrhq7mtZawmNVFQ5WM45mk56RXRYElyVIrp0dNe46p2IlJoVGfSszQyyTqVtuJJBKLfaAAMX5bqtkWY5FUNXuaoYtImoOLFW4W2zGSl+CuHDlFNIzR5yZLkvPI7btOxLgJrh4yMz+kLXbVKZitbKo9VjuLK1oKSdkCirYJ8qXEm4rozkDs0MkbfG3KnI7GT2jyPNd+Ij3M9mAAzhiecamwdRaWpuNRJ93XydSbfC3I0qvgtk5Cao5di06pTLCFdul2OlHEk0oNs9jQavXPw+tmMqstV9YsjRoPhGoR1GL0SlP3Th/KFeg0TONyG0mI6p00p3cNCHWlqNskoM1Gky2OADImM6maoRM/pMDq9XMck1NU5i9dVKs7JBSMuq3YMNcqyajJgvPyVOqclpS63LbbbWwRuJ4UrNcW95QeqVdUZJEg6iw8iuGlQXHrCLIgLqaWE7bMxn31qbh+cVzrbD6jU1NZkcBNLWanCYdJWzwAYN1LzXUuzx2TZWGuDb6n8A1HapZOOT4sli0kR2a5cdk3zgsIkSCM5eyozaPUj+oZGTxqsLGM0yzINZVYZiWqKkUtvZkl28rK+qclWTLeNV77TxvebKacUbjhq4zQouA+BJEkkEnWAAMSL8pDUybhdVkNlqm1j187j2FzK+nbroak36rB9KLGSTbjSnVEndaS7FSUM8HEsjIxtseSyXSzCsvvouRZDBnSZMU4yiZTbS2obqo73bMG9EQ6lh80Oeuk3G1GRkX9xbetAAAAAAAAAAAAAAAAAAFVY570+of3f4b+o5GLVFVY570+of3f4b+o5GAtUAAAAAAAAAHBkEB20obKsZMicmRHmEGfsJS0Gkv+4gK6xZsGSUk+B5HqvMq9C2V/WlRe0jIx64cE/H6G0dJ6zpIExwi2Jb8ZDiiL+KiMZXaHZ9WVVRaWc3THh4/FasLeLKJpqjwRYDq5Mw/pOm7g14Q5Mw/pOm7g14Rn90ZTjTxnk99bs9vW9ygOrkzD+k6buDXhDkzD+k6buDXhDujKcaeM8jW7Pb1vcoDq5Mw/pOm7g14Q5Mw/pOm7g14Q7oynGnjPI1uz29b3KA6uTMP6Tpu4NeEOTMP6Tpu4NeEO6Mpxp4zyNbs9vW9ygK/wDKboqOg8m3Ve9oqaDXWVdg97LhzIkdDL8Z9uA8pt1txJEpC0qIlEojIyMiMhZXJmH9J03cGvCHdGU408Z5Gt2e3re5QHVyZh/SdN3BrwhyZh/SdN3Brwh3RlONPGeRrdnt63uUB1cmYf0nTdwa8IcmYf0nTdwa8Id0ZTjTxnka3Z7et7lAdXJmH9J03cGvCHJmH9J03cGvCHdGU408Z5Gt2e3re5QHVyZh/SdN3BrwhyZh/SdN3Brwh3RlONPGeRrdnt63oDIlJl179FHUS5lk0qM00R7q9cuE1mX1JSRmZn7PR/Ae4HHX01PU8XyVVQ4fH+95uwlvi/jwkW47Bp9nZDVkmdVXN81XeXldF/OVfKLeLW6IjwgAAGkrAAAAAAAAAAAAAAAAAAAAAAAAAAAAAAAAAAAAACqsc96fUP7v8N/UcjFqiqsc96fUP7v8N/UcjAWqAAAAAAAAAAAAAAAAAAAAAAAAAAKq8rH3WNZPu/yH9OfFqiqvKx91jWT7v8h/TnxaoAAAAAAAAAAAAAAAAAAAAAAAAAAAAAAAAAAAAAAAAAAAAAAAAAAAAAAAAAAqrHPen1D+7/Df1HIxaoqrHPen1D+7/Df1HIwFqgAAAAAAAAAAAAAAAAAAAAAAAAACqvKx91jWT7v8h/TnxaoxH/aoaGZPnWiqtXNNZNnFyrCYsqNPTWuuNu2OPy0k3OjLJvY3EEXC4aVHw9mT5bHxC0vIT0SyHRzQqDN1DnWFjqBm7vMmVTrJ5b0xUp5CSbYdcc3WammibQojM/2namX7w5zvG5N3he0UAAOkAAAAAAAAAAAAAAAAAAAAAAAAAAAAAAAAAAAAAAAAAAAAAAAAAAAAAAKqxz3p9Q/u/wAN/UcjFqiqsc96fUP7v8N/UcjAWqAAAAAAAAADjubD5Jp51rwcfmcZ2Rw/4uBJq2/6Dyacdr5aSkXsRmymLLd12S2TnrfWSSVuSE/3EW3o/wCYn8z+h97/AEyV+Uoco+a7a/yW1NnV4xEX3fC+Znk0cj/DRNUed6L5Vxfpur7m38A5Vxfpur7m38BKAMfQWXpjhC5n1YovlXF+m6vubfwDlXF+m6vubfwEoPM0GqGmmV3kvGMW1Dxm4uK8lHLr6+3jyJMckq4Vdo0hZrRsfoPci2P0BGTWc+VEcDSVYpLlXF+m6vubfwDlXF+m6vubfwEoAaCy9McIM+rFF8q4v03V9zb+Acq4v03V9zb+A6am2qr+riXlFZxLGunsokxJkR5LzEhlZEpDja0maVpURkZKIzIyP0DrDV7L0xwgz6sUXyri/TdX3Nv4Byri/TdX3Nv4CSccQ0hTrq0oQgjUpSj2IiL2mZjzmJamab58/Li4LqDjWRvQNvO26m2YmKj7nsXaE0tRo9JH7dvYGrWcxfmRwNJVikeVcX6bq+5t/AOVcX6bq+5t/AdNhbVVSUdVrZxIRS5DcSOch5LfbPrPZDSOIy4lqP0EkvSf1DrDV7L0xwgz6sUXyri/TdX3Nv4Byri/TdX3Nv4CQdkMMrabefbbW+s22kqURG4rhNXCkvrPhSo9i+pJn9Q+FTbVV/VxLyis4ljXT2USYkyI8l5iQysiUhxtaTNK0qIyMlEZkZH6A1ey9McIM+rFzcq4v03V9zb+Acq4v03V9zb+AlADQWXpjhBn1YovlXF+m6vubfwDlXF+m6vubfwEoAaCy9McIM+rFCTYUTGYj15Rxm4TkJBvuNsJJDbzaS3WhSC9U90kex7bkexkY98PEZV9F7j+QkflqHtxudhzm1WlnHlEUzd886/6Qo5b4xTVPn4/YAAH0KgAAAAAAAAAAAAAAAAAAAAAAAAAAAAAAAAAAAAAKiyXGtY6DWO61H04xjDcgg5BjNNSPsXeTSqh2K7AlWb3Gnsa+UTqVpsiL0mg0m0foVxei3QAVVzH5U/2N6Vf5l2P+hBzH5U/2N6Vf5l2P+hC1QAVVzH5U/2N6Vf5l2P+hBzH5U/2N6Vf5l2P+hC1QAVVzH5U/wBjelX+Zdj/AKEHMflT/Y3pV/mXY/6ELVABTl7f+Uk9R2LN7pPprDrVxHkzJETUKfJfZYNB9ottpVK2lxZJ3MkG4glGREak77lYA6sz+h97/TJX5Shyj5rtf/Zj/wAx9ZaOSfp7+QAAMxactsbKauYqQzIdaKO4a246VKdWnhPckEn0moy9hF6d9thjjFMpgVcXENO9Mc3xfUuHAprGuomotUUbK8MbRVSOzekraWZNmZttxlEtmM6bjyf31bkNogPWztMyJiYcVU3sP5Nq5ZZhU4tAw7Va3Wp3EMOaspVVbucTM6RklXHk8a0q2KT2bjiHEq9ckuGlZbL2Oxzk5bR61MeTrXZLka4My4rc1jTJFtKkyWcdjxuF+Icl1anXEnYw2ELJSzNTc8yVuStj0yA7m3i66IRmTixJgOX6kOYfphgjuZZJJl614jismDZOWT65EN2I2hV6tt41cTSlwSZUlRGR9sta/SpR7yEbOcgVIr3oGoN+/qFIt8sYzSiVcyFt1VUzFs1RnfMjX2cNCHWqwmX0IQp0nCPiX2hqGywEzlET/wA9dXb4vRo9qk8doqeR5JPmmb22WXUPI8JN+/llLk2Fm+UqAXnK2CUa1krZazQ22nhSfoSj6jpi41Oylitu4WleZYRqncVeA23yVlGM1KGbbHkNnH2jSexU+0anS9dDaG2ldpGL9gsiPbaYDmm2zZmZi9M0X+TFdZd3tr5k5W5hQ39A1m2JHWx4GbT8qKNP7WR5xx2EuO0ZE4kop9glS+zNK1GSCcSQgsJ1B1rk4Ba3lTm0WRlTWAT5mT1cbLJ95axrXeOZv/JrsRLNU+wZykpitr4V7klKXey4xvEB3rEelGjnFkW1l6RzM00qtcU1gyW/xiv1H7Fc+Xls2TAjSnsesOzYbnKc3fNx9MdKm1uuElbymSJKXltK8FU6iZO7o3FtMl1NyaDmDOk2OWWnkdF5JaXfXbkV5Sz7IlkVm8uSmO2406TvCg0maU9oalb3ARGURHw9/wCjR7WVGrLKY2TTMwdzPJVTmNZY2ONxDupKoDda80whyL5rx9ipO7q1EpSDUlRlwmRERFqsAHlXXn3eDumnNAAB5ukXlX0XuP5CR+Woe3HiMq+i9x/ISPy1D241+xP1bX5U/WpUy38tO/7ApTyvK75X0hh1R0VXdeeZpiDHybaL4YcziyCAXYvq7NzZpe/Co+zX6pn6qvYd1gPoWexrrdR32neAzqbGdNcI02nTsXzOa01hCGJKnHWahKmnUvLgR1tOqUXAZNo3NJJ9ffYk+ig6o6hlYW+QUGqb+S0lTqDjmK1sUo1cqNZwZtLVPOOLfaYSpS1vTnHUrbUhJHsWxo2SWqAAYzwbWnWzItP7TIrPWLCIU1VBWzrBp6xbW5j092Ywl1h7arQiuI21SWeGX50ppxCFq40IdNS68ojLYeK0+TNatTEQISLZMpntqQ7W4eYkIJCoR+bnEtWiTxNk3EXGeWakl++eydmAAzH5W8bEp2oOlDWaXWndVWn8uq84z2qbsKsnOwY4SNl2RHT2nt4T7QjL0+gxUM7XDNtMtFIFRp/lBV0rF8byG2ru2ejoh5McaxkNxjgNuxJD0iOtLPGiMybPZR3mv9oNPA6N9AAyZluv2d0+b5QWH5vFzF56vtZWK49SOwZbRqZpnJcZEyMTKJzRLdZLgkoeeYc7ZpJEjtUcPDTa06jHGrVXOu2NOYrZX9XBscpq7CHPdo23INi+4TshdbGhsk6/HrmEocaccbOSvjURuNbbBABmXTYq288jXJm7jM7KDCsrDMkP38CC44+2h29sCOUTDKeLb1uNSUkREni9KSIzKuoWormAV+RR9H6/Sxs1roWrPNMCleaUEaK7NW0tUpjs5UaFJQhRn2plI2bcJTnqNpI9vgAxPkWpWqdc5RZ7DyKhye9hYTm6K+3rX/OoxwivMcbVIW8iI026phs3VKcajdmomSMkL9JH6GBrBnpNV8XLdfserMUm21izztUTINglhbMGO4zBcmPV7EJaluOSFkptjcyaJri7QlGetwAYqe1DzSo1CtJFTla8vvFZsiXW09hVR2lm0rTmVLZcjx1tFKhk9KaW36FkrZtxo1bqf7Saj6x6hTfNKvD9aHMngWDuGNy79uBXLXXTLGzVHmwkE0wTRK7AkqJt1C3WTMjWaiWkhrsAFd6JZDkN7R5BDya6dt5VDlFrTNzn2WWnn2GXzJo3EsoQ3xEhRJM0oSR8JHtuZgLEAAAAAAAAAAAAAAAAAAAAAAAAAcGQQHbShsqxkyJyZEeYQZ+wlLQaS/7iArrFmwZJST4Hkeq8yr0LZX9aVF7SMjHrhwT8fobR0nrOkgTHCLYlvxkOKIv4qIxldodn1ZVVFpZzdMeHj8Vqwt4sommqPBFgOrkzD+k6buDXhDkzD+k6buDXhGf3RlONPGeT31uz29b3KA6uTMP6Tpu4NeEOTMP6Tpu4NeEO6Mpxp4zyNbs9vW9ygOrkzD+k6buDXhDkzD+k6buDXhDujKcaeM8jW7Pb1vcoDq5Mw/pOm7g14Q5Mw/pOm7g14Q7oynGnjPI1uz29b3KAr/ym6KjoPJt1XvaKmg11lXYPey4cyJHQy/GfbgPKbdbcSRKQtKiJRKIyMjIjIWVyZh/SdN3Brwh3RlONPGeRrdnt63uUB1cmYf0nTdwa8IcmYf0nTdwa8Id0ZTjTxnka3Z7et7lAdXJmH9J03cGvCHJmH9J03cGvCHdGU408Z5Gt2e3re5QHVyZh/SdN3BrwhyZh/SdN3Brwh3RlONPGeRrdnt63uUB1cmYf0nTdwa8IcmYf0nTdwa8Id0ZTjTxnka3Z7et6AyJSZde/RR1EuZZNKjNNEe6vXLhNZl9SUkZmZ+z0fwHuBx19NT1PF8lVUOHx/vebsJb4v48JFuOwafZ2Q1ZJnVVzfNV3l5XRfzlXyi3i1uiI8IAABpKwAAAAAAAAAAAAAAAAAAAAAAAAAAAAAAAAAAAAAAAAAAAAAAAAAAAAAAAAAAAAAAAAAAKq8rH3WNZPu/yH9OfFqiqvKx91jWT7v8h/TnxaoAAAAAAAAAAAAAAAAAAAAAAAAAAAAAAAAAAAAAAAAAAAAAAAAAAAAAAAAAAAAAAAAAAAAAAAAAAAAAAAAAAAAAAAKq8rH3WNZPu/yH9OfFqjFP8AalaHZTnuiTuqmmcq0i5XhcWVGmorHXG3bKglpJufFWTZkbiCIkOGlW6eBLxbGaxaXkN6K5Fo7oZAkaiWFhZagZm4WR5XOsn1vy1zHkJJDLrjhmozaZS22ZGZlxk4ZfvANCAAAAAAAAAAAAAAAAAAAAAAAAAAAAAAAAAAAAAAAAAAAAAAAAAAAAAAAAAAAAAAAAAACvM+nSLK/Ti6nnG4DEJuZJQ2s0HIU4txCEqMvTwF2SzNPsMzLfci2HmOUMT6YqT/AIwm/gJ/K/8AeDN/o0D8+YOcZVdNNpVNVUX+M/VmWv4q5mURyhifS9R3JrwhyhifS9R3Jrwjpu7ykxmplX2R3EGqrITZuyZs6QhhhhH+JbizJKS/4mZDzmKazaP55aHR4Pqth2RWRNKfOHU3sWW/2aTIlL7NpalcJblue2xbkI0NHpjg4zIwTXKGJ9L1HcmvCHKGJ9L1HcmvCJcBGis/THBGbTgiOUMT6XqO5NeEOUMT6XqO5NeEdsK1rLJ2YxXWUWU5Xv8AmstDLyVqjvcCV9m4RH6i+BxCuE9j4VpP2GQ6hOis/THAzacERyhifS9R3JrwhyhifS9R3JrwiUbfYeW62082tTC+zdSlRGaFcJK4VF9R8Kknsf1GR/WP2Gis/THAzacERyhifS9R3JrwhyhifS9R3JrwiXARorP0xwM2nBEcoYn0vUdya8IcoYn0vUdya8I/13LcVYx5/Ln8mqW6KK246/ZrmtlEaQ2Zk4pTxnwJJJpUSjM9iMj39gjcQ1T0x1Cffi4DqNi+SvRUE4+3T3EeYppJnsSlE0tRpLf0bmJ0NHpjgnMjBI8oYn0vUdya8IcoYn0vUdya8IlHn2IyCckPNtJNaWyUtRJI1KUSUp3P6zUZERfWZkQ/YaKz9McEZtOCI5QxPpeo7k14Q5QxPpeo7k14RLj8PPsRkE5IebaSa0tkpaiSRqUokpTuf1moyIi+szIg0Vn6Y4GbTgi+UMT6XqO5NeEOUMT6XqO5NeEdtda1duy5IqbKLNaZfeiuLjvJcSh9pxTbrZmkzIloWlSFJ9qVJMj2MjHUGis/THAzacERyhifS9R3JrwhyhifS9R3JrwjthWlZYuzGK+xiynK9/zWWhl5K1R3uBK+zcIj9RfA42rhPY+FaT9hkOoNFZ+mOBm04IjlDE+l6juTXhDlDE+l6juTXhEo6+wwbaXnm2zdX2bZKURcatjPhLf2nsRnt/wMfsRorP0xwM2nBEco4oXpRjVWgy9ikRG0qL/iRkW5f/Q9pp1ZzDkWeOSpDshuuRHkRnHVmtaWnu0ImzUfpVwqZVsZ+nYyL07CCEnp79LL/wDp1b+bMHpZUxRa05sXX8peth+G0i7rwWAAANNpAAAAAAAAAAAAAAAAAAAAAAAAAAAAAAAAAAAAAAAAAAACtMr/AN4M3+jQPz5g5x0ZX/vBm/0aB+fMHOMz4z85+ssyv88/MGRr++ySixmxVVTmYFLL1humMhlv379Gy1D7KQtsnbCO247FbVJRHSbiUluZpQakks1FrkB1E3Ipm5ljBJOX5DlOGQ77UKbPro+NZXcxDpcjnOxpaY9rCRB7aQpDC5pNNOqb7RaOF0iJRmslmavHx1ZQ3pki8PUvOVzV6FIzNbqslmmZ3TbHGiUX7T0elR7tF+yX6ONCzIjLa4Cc91nsq0NhkOca1HjNxmGSs1MnIron4sC5lQyW23R0rrbRKZWlaEJdeccIkKTspa/qWslV1mesGVFpPBnMZddll1Jp23cQXJGWP13nspLkokvMQ47K1Wr6SiEb6Xz7FKDQZ8PGtY3eAnP2GfsYtyPJ01OXZzJxTMG/k671Kr5d49IzeZWxk0j2MR3YkjztrtlQ4zsxKWykNISS+BDHGlCSJFzYjld9SeTTfZhfXz14dbCu5cKbj05yxkqhNrfOOTEmUw35y622SUJfW2aXOBKzNZKNSrsARNV5NV/wYkrc/uZNjc4PVajS0QZdlgD0B6szmXeOPNyrpcWyWxPeQ2tSTQmO26hriabUvYjI1mkvVSsj+Rc1fwzNtRL+o0/qs5tK9yxk5LLjOIV8jQJUSK9Ym6T5IN2TLUlKnfWNDaPSREk9YgGeZ+xk9K1O/wBnlkC25L7ql49dGTslvhcWZypHrOI2Tso/aZbF6dy9A++p69YKPN7ixv7umscuqdPbyXp89QUDkFE6apCfOmXEPSJK3HmuzirbaJXCsnFq4TNs9tUgGeZ7ElvYHeYTZy7HUWDLwytyDBpUpyt1FtLhVe6V40UuQ9YOsxzjkbBpWpnjMmFMpdJLRmlQ9jC1Plrm4nhyM9mu3qdVMtanwisnFyE1RR716Eh4uLi7Ds/MlspV6pkho0fuEZaqATnmfsZL09qLi/rtK6241Dzl9F9pPOyi0cTlE9t2VZKKpJLxuJdJSSR2znChJkkuJW5HxK4vQagWnN3kk6a5hm95LYKRJwK4ubFqxdgcCXLCvVJfcdZWg0JSlxxZqMyJBkSy4VISpOlAEZ3jejP8b2R8VTd40ukyzDsguX597qxm1R5gu1eVXSI+94822cbj7Ez7eMy52vD2m+5cfCfCJryWclzHIMgr3bLNK6wJzFu2ySv5unXM5FsbjHC69Hfitt1Sy3lIXFQoi3NJJRs0ahp4Amu9M13/AAZCmXcOp1Uzk6LOLWNm7urFFHraBm1ebZm1zseoRPUqElRNyEFGOUpbqkqNrskmRoMi4ovFcu1Ltzs/lPVGDjl+dbkhZKlOS2NvPrdkupYfKl81JqCUd0mTQaHEk43v6zpqJQ2iAnP2GfsYwh5Dj1zMxD5VyqU5V0OoVcUi5gahzremcN+rmkgmp7q0OpUbqGUrYcUokKdQlJmTyiVs8AHNVV7mqq8Enp79LL/+nVv5swRgk9PfpZf/ANOrfzZgij9Wj5/aXVj+pT18JWAAANJpAAAAAAAAAAAAAAAAAAAAAAAAAAAAAAAAAAAAAAAAAAACt87aVWZa3cyzJuFYQGYSXlehCHmnHVEhR+wjUT3o39vAZe0chGRluR+gey1B+hVx/KqGGnP/ABFf+4x8/wBpZZqFpEZt+d4+d131ZGW2mr1+V97WYDJQDO78/j9/6U9c/b7tagMlAHfn8fv/AEa5+33a1AZKAO/P4/f+jXP2+7WoDJQB35/H7/0a5+33a1AZKAO/P4/f+jXP2+7WoDJQB35/H7/0a5+33a1AZKAO/P4/f+jXP2+7WoDJQB35/H7/ANGuft92tQGSgDvz+P3/AKNc/b7tagMlAHfn8fv/AEa5+33a1AZKAO/P4/f+jXP2+7Wi1obSa3FElKS3MzPYiIS+mjDkqwuMibLeFLbiw4zn1PdibylLT/end7hI/YZpPYZAp/8AzWJ/8yP+43lV/wDlkT/4G/8A+SGp2XlWvVzVddm7/O9eyGvT1Z3lc6gAButUAAAAAAAAAAAAAAAAAAAAAAAf/9k=)"
      ],
      "metadata": {
        "id": "s5PvG2jChX9x"
      }
    },
    {
      "cell_type": "markdown",
      "metadata": {
        "id": "ZATLhqOBV4OM"
      },
      "source": [
        "### Initialization"
      ]
    },
    {
      "cell_type": "markdown",
      "source": [
        "\n",
        "#### Individual\n",
        "\n",
        "Creating Random Individual"
      ],
      "metadata": {
        "id": "OunaZmudTRs4"
      }
    },
    {
      "cell_type": "code",
      "execution_count": null,
      "metadata": {
        "id": "dBQYp6_zhsjA"
      },
      "outputs": [],
      "source": [
        "class Individual():\n",
        "\n",
        "  def __init__(self, n_points=n_points, height=height, **kwargs):\n",
        "    self.n_segments = n_points\n",
        "    self.n_points = n_points+1\n",
        "    self.width = 1.0\n",
        "    self.height = height\n",
        "    self.y = [self.height]\n",
        "    self.x = [0]\n",
        "    self.delta_x = self.width/self.n_segments\n",
        "\n",
        "    for i in range(self.n_segments-1):\n",
        "        self.x.append((i+1)*self.delta_x)\n",
        "        frac = 1\n",
        "        self.y.append(-self.height/frac + rm.random()*(self.height - (-self.height/frac)))\n",
        "\n",
        "    self.x.append(1.0)\n",
        "    self.y.append(0)\n",
        "\n",
        "    self.sol = None\n",
        "\n",
        "    #This is just assuming it dropping vertically and then going horizonally at that speed\n",
        "    g = 9.8\n",
        "    t1 = sqrt(2*self.height/g)\n",
        "    v1 = g*t1\n",
        "    t2 = self.width/v1\n",
        "    self.max_FF = 40*(t1 + t2)"
      ]
    },
    {
      "cell_type": "markdown",
      "metadata": {
        "id": "ffE6-Ww1V9cl"
      },
      "source": [
        "#### Population\n",
        "\n",
        "Creating a Population with n-random Individuals"
      ]
    },
    {
      "cell_type": "code",
      "execution_count": null,
      "metadata": {
        "id": "tL1eHy7ANksX"
      },
      "outputs": [],
      "source": [
        "class Population():\n",
        "  \n",
        "  def __init__(self, individual_class=Individual, n_individuals=n_individuals, **kwargs):\n",
        "    self.kwargs_str = '__'.join(['{}={}'.format(x[0], x[1]) for x in kwargs.items()])\n",
        "    print(self.kwargs_str)\n",
        "\n",
        "    self.individual_class = individual_class\n",
        "    self.class_name = individual_class.__name__\n",
        "    self.n_individuals = n_individuals\n",
        "    self.population = [[self.createNewIndivid(**kwargs), 0] for i in range(self.n_individuals)]\n",
        "    self.sorted_population = None\n",
        "\n",
        "    if (show_info):\n",
        "      self.printPopulation()\n",
        "      self.plotPopulation()\n",
        "\n",
        "  def createNewIndivid(self, **kwargs):\n",
        "    return(self.individual_class(**kwargs))\n",
        "\n",
        "  def printPopulation(self):\n",
        "    print(\"Population Edited Parameters: \")\n",
        "    print(self.kwargs_str)\n",
        "    print(\"--------------------------------\")\n",
        "\n",
        "  def plotPopulation(self,  **kwargs):\n",
        "    print(\"Population Diagram: \")\n",
        "    print(\"--------------------------------\")\n",
        "    # plot lines\n",
        "    for individual in self.population:\n",
        "      plt.plot(individual[0].x, individual[0].y)\n",
        "    plt.show()\n",
        "\n",
        "\n",
        "  "
      ]
    },
    {
      "cell_type": "markdown",
      "source": [
        "### Evaluation"
      ],
      "metadata": {
        "id": "i3iEvpH2TX_f"
      }
    },
    {
      "cell_type": "code",
      "source": [
        "class Fitness():\n",
        "\n",
        "  global show_info\n",
        "\n",
        "  def __init__(self, population=Population, **kwargs):\n",
        "    self.population = deepcopy(population)\n",
        "\n",
        "  def __del__(self):\n",
        "    print(\"Destructor called\")\n",
        "\n",
        "  def getBestCurve(self, individual):\n",
        "    w = individual.width\n",
        "    h = individual.height\n",
        "\n",
        "    #The coords we've been using (dropped at (0,h), ending at (w,0)), simply add h to y in the end.\n",
        "\n",
        "    f_t = lambda t: np.cos(t)-1+ (-h/w)*(np.sin(t)-t)\n",
        "    t = fsolve(f_t,3.14)[0]\n",
        "\n",
        "    a = w/(t-sin(t))\n",
        "\n",
        "    t_range = np.linspace(0,t,individual.n_points)\n",
        "\n",
        "    x = lambda t: a*(t-np.sin(t))\n",
        "    y = lambda t: h + a*(np.cos(t)-1)\n",
        "\n",
        "    self.sol = (t_range, x, y)\n",
        "\n",
        "    sol_numeric_y = []\n",
        "\n",
        "    for x_pt in individual.x:\n",
        "        f = lambda t: x(t)-x_pt\n",
        "        tval = fsolve(f,3.14)[0]\n",
        "        sol_numeric_y.append(y(tval))\n",
        "\n",
        "    temp_state = individual.y\n",
        "    individual.y = sol_numeric_y\n",
        "    individual.sol_numeric_y = sol_numeric_y\n",
        "    \n",
        "    self.t_ideal = self.getFitness(individual)\n",
        "    individual.y = temp_state\n",
        "\n",
        "    if show_info:\n",
        "      print('\\n-------------------------------------')\n",
        "      print('Theoretical best time:', self.t_ideal, \"\\n\")\n",
        "\n",
        "  def getFitness(self, individual):\n",
        "    g = 9.8\n",
        "\n",
        "    #So if the next point is lower than the previous one, d will be *positive* (i.e., the y axis is down, opposite with the plot axis.)\n",
        "    d = -np.array([individual.y[i+1] - individual.y[i] for i in range(individual.n_segments)])\n",
        "\n",
        "    #Be careful with signs and indices!\n",
        "    v = sqrt(2*g)*np.sqrt([0] + [sum(d[:(i+1)]) for i in range(len(d))])\n",
        "\n",
        "    if np.isnan(v).any():\n",
        "      print('\\n\\nbad v:',v)\n",
        "      print('\\nbad d sum:',[sum(d[:(i+1)]) for i in range(len(d))])\n",
        "      print('\\nstate', individual.y)\n",
        "      plt.savefig('test_bad_np.png')\n",
        "      exit(0)\n",
        "\n",
        "\n",
        "    #v = np.sqrt([0] + [sum(d[:(i+1)]) for i in range(len(d))])\n",
        "    v = v[:-1]\n",
        "    t = (np.sqrt(v**2 + 2*g*d) - v)/(g*d/np.sqrt(d**2 + individual.delta_x**2))\n",
        "\n",
        "    F1 = (sum(t))\n",
        "    return F1\n",
        "\n",
        "  def getFitnessPopulation(self, sort=False):\n",
        "    for individual in self.population.population:\n",
        "      individual[1] = self.getFitness(individual[0])\n",
        "\n",
        "    if sort:\n",
        "      self.sortIndividuals()\n",
        "\n",
        "    if show_info:\n",
        "      self.printFitnessFunctions()\n",
        "\n",
        "  def sortIndividuals(self):\n",
        "    list.sort(self.population.population, key=lambda fitness: fitness[1])\n",
        "\n",
        "  def printFitnessFunctions(self):\n",
        "    print('\\n-------------------------------------')\n",
        "    print('Objective Fitness 1: ', objectives[0])\n",
        "    print('\\n')\n",
        "    for index, individual in enumerate(self.population.population):\n",
        "      print('Individual {:10}     |    Fitness: {:.4f}'.format(index, individual[1]))\n",
        "\n",
        "  def plotState(self, individual, ax, width, height, color='black', plot_sol=False, plot_label=False):\n",
        "    # Pass this an axis from another program. It will handle showing it and stuff.\n",
        "    ax.set_xlabel('X axis')\n",
        "    ax.set_ylabel('Y axis')\n",
        "    ax.set_title('Comparison Actual Result with Brachistochrone')\n",
        "\n",
        "    if plot_sol:\n",
        "      t = self.sol[0]\n",
        "      x = self.sol[1]\n",
        "      y = self.sol[2]\n",
        "      ax.plot(x(t), y(t), '-', color='gray')\n",
        "\n",
        "      if plot_label:\n",
        "        ax.text(0.8*width, 0.9*height, 'ideal: {:.3f}'.format(self.t_ideal))\n",
        "\n",
        "    if plot_label:\n",
        "      ax.text(0.8*width, 0.8*height, 'cur. best: {:.3f}'.format(self.getFitness(individual)))\n",
        "\n",
        "    ax.plot(individual.x, individual.y, 'o-', color=color)\n",
        "\n",
        "\n",
        "  def plotFitnessFunction(self, ax, best, mean):\n",
        "    ax.clear()\n",
        "    ax.set_xlabel('Generations')\n",
        "    ax.set_ylabel('Fitness Function')\n",
        "    ax.set_title('Best and Mean Results')\n",
        "\n",
        "    ax.plot(best, label='best', color='dodgerblue')\n",
        "    ax.plot(mean, label='mean', color='tomato')\n",
        "    ax.legend()\n",
        "    ax.text(0.6*len(best), 0.8*max(best), 'best: {:.3f}\\nmean: {:.3f}'.format(best[-1], mean[-1]))\n"
      ],
      "metadata": {
        "id": "cDgCbW6CV950"
      },
      "execution_count": null,
      "outputs": []
    },
    {
      "cell_type": "markdown",
      "source": [
        "### Selection"
      ],
      "metadata": {
        "id": "I6AL8YPHTdNK"
      }
    },
    {
      "cell_type": "code",
      "source": [
        "class Selection():\n",
        "  \n",
        "  def __init__(self, population=Population, ps=ps, **kwargs):\n",
        "    self.population = population\n",
        "    self.parents = []\n",
        "    self.ps = ps\n",
        "    self.quantity_parents = 3\n",
        "\n",
        "  def __del__(self):\n",
        "    print(\"Destructor called\")\n",
        "\n",
        "  # Probabilistic Selection\n",
        "  def getProbabilisticSelection(self):\n",
        "    probability = np.random.uniform(\n",
        "        low=0, high=1, size=self.population.n_individuals)\n",
        "    \n",
        "    probability = probability < self.ps\n",
        "    if sum(probability == True) > 0:\n",
        "      self.quantity_parents = sum(probability == True)\n",
        "\n",
        "  def getParentsSelection(self):\n",
        "    self.getProbabilisticSelection()\n",
        "    for i in range(self.quantity_parents):\n",
        "      self.parents.append(self.tournamentSelection())\n",
        "\n",
        "    # self.parents = np.unique(self.parents, axis=0)\n",
        "\n",
        "    if show_info:\n",
        "      self.printParents()\n",
        "\n",
        "  def tournamentSelection(self):\n",
        "    parents = rm.choices(self.population.population, k=5)\n",
        "    list.sort(parents, key=lambda fitness: fitness[1])\n",
        "\n",
        "    return (parents[0])\n",
        "\n",
        "  def printParents(self):\n",
        "    print('\\n-------------------------------------')\n",
        "    print('Selection Parents')\n",
        "    print('\\n')\n",
        "    for index, individual in enumerate(self.parents):\n",
        "      print('Individual {:10}     |    Fitness: {:.4f}'.format(index, individual[1]))\n",
        "\n",
        "  def getBestAndMean(self):\n",
        "    if self.sorted_population is None:\n",
        "      return((0,0))\n",
        "\n",
        "    best = self.sorted_population[0][1]\n",
        "    mean = sum([individfitness[1] for individfitness in self.sorted_population])/(1.0*len(self.population))\n",
        "    return((best,mean))\n",
        "\n",
        "  def isSameState(self, other_state):\n",
        "    max_diff = ((self.n_points-2)*self.height)**2\n",
        "    diff = (np.array(self.y) - np.array(other_state.y))[1:-1]\n",
        "    abs_diff_normed = abs(sum(diff))/(self.n_points-2)\n",
        "    \n",
        "    if abs_diff_normed < self.sameness_thresh:\n",
        "      return(True)\n",
        "    else:\n",
        "      return(False)\n",
        "\n",
        "  def deleteDuplicates(self,pop):\n",
        "    unique_individuals = []\n",
        "    no_duplicates = []\n",
        "    \n",
        "    for index,individual in enumerate(pop):\n",
        "      is_not_unique = np.any([individual.isSameState(other) for other in no_duplicates])\n",
        "      if not is_not_unique:\n",
        "        unique_individuals.append(individual.y)\n",
        "        no_duplicates.append(individual)\n",
        "\n",
        "    return(no_duplicates)"
      ],
      "metadata": {
        "id": "n9-8KuygrGn6"
      },
      "execution_count": null,
      "outputs": []
    },
    {
      "cell_type": "markdown",
      "source": [
        "### Crossover"
      ],
      "metadata": {
        "id": "1Oss4a-wTgbW"
      }
    },
    {
      "cell_type": "code",
      "source": [
        "class Crossover():\n",
        "  \n",
        "  def __init__(self, population=Population, parents=parents, pc=pc, **kwargs):\n",
        "    self.population = population\n",
        "    self.parents = parents\n",
        "    self.new_individuals = []\n",
        "    self.pc = pc\n",
        "\n",
        "  def __del__(self):\n",
        "    print(\"Destructor called\")\n",
        "\n",
        "  def getNewPopulation(self):\n",
        "    rm.shuffle(self.parents)\n",
        "    n_couple = int((len(self.parents)-1) / 2)\n",
        "    for i in range(n_couple+1):\n",
        "      new_child1, new_child2 = self.onePointCrossover(self.parents[i], self.parents[-i-1])\n",
        "      self.new_individuals.append(new_child1)\n",
        "      self.new_individuals.append(new_child2)\n",
        "\n",
        "    if show_info:\n",
        "      self.printNewPopulation()\n",
        "\n",
        "  def onePointCrossover(self, parent1, parent2):\n",
        "    new_child1 = deepcopy(parent1)\n",
        "    new_child2 = deepcopy(parent2)\n",
        "\n",
        "    r1 = randint(1,parent1[0].n_points-3)\n",
        "    r2 = randint(r1+1,parent2[0].n_points-2)\n",
        "\n",
        "    temp = new_child1[0].y[r1:r2]\n",
        "    new_child1[0].y[r1:r2] = new_child2[0].y[r1:r2]\n",
        "    new_child2[0].y[r1:r2] = temp\n",
        "\n",
        "    return(new_child1, new_child2)\n",
        "\n",
        "\n",
        "  def printNewPopulation(self):\n",
        "    print('\\n-------------------------------------')\n",
        "    print('Crossover New Individuals')\n",
        "    print('\\n')\n",
        "    for index, individual in enumerate(self.new_individuals):\n",
        "      print('Individual {:10}     |    Fitness: {:.4f}'.format(index, individual[1]))\n",
        "\n",
        "\n",
        "  def mateAvg(self,other_individ):\n",
        "    newindivid_1 = deepcopy(self)\n",
        "    newindivid_2 = deepcopy(other_individ)\n",
        "\n",
        "    newindivid_1.y = ((np.array(newindivid_1.y) + np.array(newindivid_2.y))/2).tolist()\n",
        "\n",
        "    return(newindivid_1,newindivid_1)"
      ],
      "metadata": {
        "id": "79m3ovo2ryYp"
      },
      "execution_count": null,
      "outputs": []
    },
    {
      "cell_type": "markdown",
      "source": [
        "### Mutation"
      ],
      "metadata": {
        "id": "3k1BhsXeTjpk"
      }
    },
    {
      "cell_type": "code",
      "source": [
        "class Mutation():\n",
        "\n",
        "  def __init__(self, new_individuals=new_individuals, pm=pm, **kwargs):\n",
        "    self.new_individuals = new_individuals\n",
        "    self.pm = pm\n",
        "\n",
        "  def __del__(self):\n",
        "    print(\"Destructor called\")\n",
        "    \n",
        "  def randomSetMutation(self):\n",
        "    new_individual = []\n",
        "    new_individual.clear()\n",
        "\n",
        "    height = 1\n",
        "\n",
        "    for individual in self.new_individuals:\n",
        "      # ****\n",
        "      height = individual[0].height\n",
        "\n",
        "      probability = np.random.uniform(\n",
        "      low=0, high=1, size=individual[0].n_points-2)\n",
        "    \n",
        "      probability = probability < pm\n",
        "      if sum(probability == True) > 0:\n",
        "          individual[0].y = individual[0].y[1: individual[0].n_points-1]\n",
        "\n",
        "          # Muta Random Process\n",
        "          mutate_individual = deepcopy(individual[0])\n",
        "          for i in np.where(probability)[0]:\n",
        "              frac = 2\n",
        "              mutate_individual.y[i] = (-height/frac + rm.random()*(height - (-height/frac)))\n",
        "\n",
        "      new_individual = [height] + mutate_individual.y + [0]\n",
        "\n",
        "      individual[0].y = new_individual\n",
        "\n",
        "      if show_info:\n",
        "        self.printMutation()\n",
        "\n",
        "  def printMutation(self):\n",
        "    print('\\n-------------------------------------')\n",
        "    print('Crossover New Individuals')\n",
        "    print('\\n')\n",
        "    for index, individual in enumerate(self.new_individuals):\n",
        "      print('Individual {:10}     |    Fitness: {:.4f}'.format(index, individual[1]))\n",
        "\n",
        "  def mutateSingle(self):\n",
        "    index = randint(1, self.n_segments-1)\n",
        "    new_height = self.y[index] + np.random.normal(scale=self.mutate_strength)\n",
        "    \n",
        "    if new_height < self.height:\n",
        "      self.y[index] = new_height"
      ],
      "metadata": {
        "id": "BKhA67J2qzUD"
      },
      "execution_count": null,
      "outputs": []
    },
    {
      "cell_type": "markdown",
      "source": [
        "### Survivor Selection"
      ],
      "metadata": {
        "id": "Cfmiw9L2rXII"
      }
    },
    {
      "cell_type": "code",
      "source": [
        "class Survivor_Selection():\n",
        "  def __init__(self, population=Population, new_individuals=new_individuals, **kwargs):\n",
        "    self.population = population\n",
        "    self.new_individuals = new_individuals\n",
        "    self.new_population = []\n",
        "\n",
        "  def __del__(self):\n",
        "    print(\"Destructor called\")\n",
        "\n",
        "  def getNewPopulation(self):\n",
        "    \n",
        "    for individual in self.new_individuals:\n",
        "      #individual[1] = self.getFitness(individual[0])\n",
        "      print(individual[1])\n",
        "      print(individual)\n",
        "      print(self.getFitness(individual[0]))\n",
        "\n",
        "    self.new_population = self.population.population + self.new_individuals\n",
        "    \n",
        "    list.sort(self.new_population, key=lambda fitness: fitness[1])\n",
        "    \n",
        "    self.new_population = self.new_population[: self.population.n_individuals]\n",
        "    self.population.population = self.new_population\n",
        "\n",
        "    if show_info:\n",
        "      self.printSurvivor()\n",
        "\n",
        "  def getFitness(self, individual):\n",
        "    g = 9.8\n",
        "\n",
        "    #So if the next point is lower than the previous one, d will be *positive* (i.e., the y axis is down, opposite with the plot axis.)\n",
        "    d = -np.array([individual.y[i+1] - individual.y[i] for i in range(individual.n_segments)])\n",
        "\n",
        "    #Be careful with signs and indices!\n",
        "    v = sqrt(2*g)*np.sqrt([0] + [sum(d[:(i+1)]) for i in range(len(d))])\n",
        "\n",
        "    if np.isnan(v).any():\n",
        "      print('\\n\\nbad v:',v)\n",
        "      print('\\nbad d sum:',[sum(d[:(i+1)]) for i in range(len(d))])\n",
        "      print('\\nstate', individual.y)\n",
        "      plt.savefig('test_bad_np.png')\n",
        "      exit(0)\n",
        "\n",
        "\n",
        "    #v = np.sqrt([0] + [sum(d[:(i+1)]) for i in range(len(d))])\n",
        "    v = v[:-1]\n",
        "    t = (np.sqrt(v**2 + 2*g*d) - v)/(g*d/np.sqrt(d**2 + individual.delta_x**2))\n",
        "\n",
        "    F1 = (sum(t))\n",
        "    return F1\n",
        "\n",
        "  def printSurvivor(self):\n",
        "    print('\\n-------------------------------------')\n",
        "    print('Objective Fitness 1: ', objectives[0])\n",
        "    print('\\n')\n",
        "    for index, individual in enumerate(self.population.population):\n",
        "      print('Individual {:10}     |    Fitness: {:.4f}'.format(index, individual[1]))\n",
        "\n"
      ],
      "metadata": {
        "id": "OB2UwSZprZ6G"
      },
      "execution_count": null,
      "outputs": []
    },
    {
      "cell_type": "markdown",
      "metadata": {
        "id": "XtTbqD-tY4NC"
      },
      "source": [
        "## Genetic Algorithm execution"
      ]
    },
    {
      "cell_type": "code",
      "source": [
        "class GeneticAlgorithm():\n",
        "\n",
        "  # Variable = Variation of the Probability between epochs\n",
        "  def __init__(self, population=Population, generations=n_generations, variable=p_variable):\n",
        "    self.n_generations = n_generations \n",
        "    self.p_variable = p_variable\n",
        "\n",
        "    start = time.time()\n",
        "\n",
        "    fitness = Fitness(population)\n",
        "    fitness.getFitnessPopulation()\n",
        "\n",
        "    selection = Selection(population, ps)\n",
        "    selection.getParentsSelection()\n",
        "\n",
        "    crossover = Crossover(population, selection.parents, pc)\n",
        "    crossover.getNewPopulation()\n",
        "\n",
        "    mutation = Mutation(crossover.new_individuals, pm)\n",
        "    mutation.randomSetMutation()\n",
        "\n",
        "    survivor_selection = Survivor_Selection(population, mutation.new_individuals)\n",
        "    survivor_selection.getNewPopulation()\n",
        "\n",
        "\n",
        "    end = time.time()\n",
        "\n",
        "    if show_info:\n",
        "      print(\"\\n-------------------------------------------\")\n",
        "      print(\"Process Complete \")\n",
        "      print(\"\\n\")\n",
        "      print(\"Time Process: {:20}\".format(str(end - start)))\n",
        "      print(\"\\n-------------------------------------------\\n\")\n",
        "\n",
        "    \n",
        "    \n",
        "\n",
        "    '''\n",
        "    def plot_evolution(self,  **kwargs):\n",
        "      N_gen = kwargs.get('N_gen', 550)\n",
        "      plot_state = kwargs.get('plot_state', True)\n",
        "      plot_whole_pop = kwargs.get('plot_whole_pop', False)\n",
        "      save_best_FF = kwargs.get('save_best_FF', True)\n",
        "\n",
        "      base_name_temp = f'evolve_{self.class_name}__pop={self.n_individuals}__gen={N_gen}__{self.kwargs_str}__{date_string}'\n",
        "\n",
        "      if save_gif:\n",
        "          N_gif_frames = 100\n",
        "          gif_dir = os.path.join(base_path, \"gifs/\" + base_name_temp)\n",
        "          Path(gif_dir).mkdir(parents=True, exist_ok=True)\n",
        "\n",
        "      if plot_state:\n",
        "          fig, axes = plt.subplots(2,1,figsize=(6,8))\n",
        "          ax_FF = axes[0]\n",
        "          ax_state = axes[1]\n",
        "      else:\n",
        "          fig, ax_FF = plt.subplots(1,1,figsize=(8,8))\n",
        "\n",
        "      if show_info:\n",
        "          plt.show(block=False)\n",
        "\n",
        "      sol_found = False\n",
        "\n",
        "      best = []\n",
        "      mean = []\n",
        "      cur_best, cur_mean = 0, 0\n",
        "\n",
        "      method_list = [func for func in dir(self.individ_class) if callable(getattr(self.individ_class, func))]\n",
        "\n",
        "      if plot_state and plot_whole_pop:\n",
        "          NUM_COLORS = self.n_population + 2\n",
        "          cm = plt.get_cmap('RdBu')\n",
        "          cNorm  = colors.Normalize(vmin=0, vmax=NUM_COLORS-1)\n",
        "          scalar_map = mplcm.ScalarMappable(norm=cNorm, cmap=cm)\n",
        "          pop_plot_color_list = [scalar_map.to_rgba(i) for i in range(NUM_COLORS)][::-1]\n",
        "\n",
        "\n",
        "      for i in range(self.generations):\n",
        "          self.sortIndivids()\n",
        "          cur_best, cur_mean = self.getBestAndMean()\n",
        "\n",
        "          best.append(cur_best)\n",
        "          mean.append(cur_mean)\n",
        "\n",
        "          if i%max(1, int(N_gen/20.0))==0:\n",
        "              print('Generation {}, current best = {:.3f}, current pop. size = {}'.format(i, cur_best, len(self.population)))\n",
        "\n",
        "          if 'solFound' in method_list:\n",
        "              if self.population[0].solFound():\n",
        "                  print(f'found solution in generation {i}!\\n')\n",
        "                  if 'printState' in method_list:\n",
        "                      self.population[0].printState()\n",
        "                  break\n",
        "\n",
        "          # Plot the current best and mean.\n",
        "          self.plotFitnessFunction(ax_FF, best, mean)\n",
        "\n",
        "          # If we're plotting the state of the population, call their plotState() functions.\n",
        "          # You can plot either the best member, or the whole pop.\n",
        "          if plot_state:\n",
        "              ax_state.clear()\n",
        "\n",
        "              if plot_whole_pop:\n",
        "                  for j, ind in enumerate(self.population[::-1]):\n",
        "                      ind.plotState(ax_state, color=pop_plot_color_list[j])\n",
        "\n",
        "              self.population[0].plotState(ax_state, color='black', plot_sol=True, plot_label=True)\n",
        "\n",
        "          if show_info:\n",
        "              fig.canvas.draw()\n",
        "\n",
        "          if save_gif:\n",
        "              if i==0 or (i%max(1, int(N_gen/N_gif_frames))==0):\n",
        "                  plt.savefig(f'{gif_dir}/{i+1}.png')\n",
        "\n",
        "          self.mateGrid()\n",
        "\n",
        "\n",
        "\n",
        "      plt.savefig(f'{misc_runs_dir}/{base_name_temp}.png')\n",
        "\n",
        "      if save_best_FF:\n",
        "          np.savetxt(f'{misc_runs_dir}/bestFF_{base_name_temp}.txt', best)\n",
        "\n",
        "      if save_gif:\n",
        "          # filepaths\n",
        "          fp_in = misc_runs_dir + \"/*.png\"\n",
        "          fp_out = misc_runs_dir + f\"/image{counter+1}.gif\"\n",
        "          makeImage(fp_in, fp_out)\n",
        "\n",
        "      print('\\nending mean = {:.3f}'.format(cur_mean))\n",
        "\n",
        "      return(self.population[0])\n",
        "    \n",
        "    #ending_state = pop.plot_evolution(N_gen=self.generations, plot_whole_pop=True, save_gif=True)\n",
        "'''\n",
        "\n",
        "\n"
      ],
      "metadata": {
        "id": "8Y0nIaF0XClQ"
      },
      "execution_count": null,
      "outputs": []
    },
    {
      "cell_type": "markdown",
      "source": [
        "# Test Section"
      ],
      "metadata": {
        "id": "i5fY9l21CuPl"
      }
    },
    {
      "cell_type": "markdown",
      "source": [
        "## Individual Random Generation"
      ],
      "metadata": {
        "id": "gzZnngge44lv"
      }
    },
    {
      "cell_type": "code",
      "source": [
        "population = Population(Individual, n_individuals=1, n_points=n_points, height=height)\n",
        "individual = population.population[0][0]\n",
        "\n",
        "fitness = Fitness(population)\n",
        "fitness.getBestCurve(individual)\n",
        "\n",
        "\n",
        "y = torch.tensor(individual.y[1:-1], requires_grad=True)\n",
        "\n",
        "adam_optimizer = optim.RMSprop([y])\n",
        "\n",
        "best = []\n",
        "mean = []\n",
        "\n",
        "for t in range(n_generations):\n",
        "\n",
        "    J = fitnessFunction(y, height)\n",
        "\n",
        "    best.append(J.item())\n",
        "    mean.append(np.mean(best))\n",
        "\n",
        "    individual.y[1:-1] = y.detach().tolist()\n",
        "\n",
        "    if save_gif:\n",
        "        if t==0 or (t%max(1, int(n_generations/frames_gif))==0):\n",
        "            plt.savefig(f'{gif_dir}/{t+1}.png')\n",
        "\n",
        "    if show_info:\n",
        "      if t%int(n_generations/20)==0:\n",
        "        print('iteration {:10}     |    loss: {:.4f}'.format(t, J.item()))\n",
        "\n",
        "    adam_optimizer.zero_grad()\n",
        "    J.backward()\n",
        "    adam_optimizer.step()\n",
        "\n",
        "\n",
        "plt.savefig(f'{misc_runs_dir}.png')\n",
        "\n",
        "\n",
        "if show_info:\n",
        "  print('\\n-------------------------------------')\n",
        "\n",
        "  fig, axes = plt.subplots(2,1,figsize=(6,8))\n",
        "  plt.subplots_adjust(left=0.1,\n",
        "                    bottom=0.1, \n",
        "                    right=0.9, \n",
        "                    top=0.9, \n",
        "                    wspace=0.4, \n",
        "                    hspace=0.4)\n",
        "  ax_FF = axes[0]\n",
        "  ax_state = axes[1]\n",
        "  fitness.plotFitnessFunction(ax_FF, best, mean)\n",
        "  fitness.plotState(individual, ax_state, width, height, color='tomato', plot_sol=True, plot_label=True)\n",
        "\n",
        "  fig.canvas.draw()\n",
        "\n",
        "\n",
        "if save_gif:\n",
        "    fp_in = gif_dir + \"/*.png\"\n",
        "    fp_out = gif_dir + f'/image{counter+1}.gif'\n",
        "    makeImage(fp_in, fp_out)\n",
        "\n"
      ],
      "metadata": {
        "id": "4DM9mwsk2u_j"
      },
      "execution_count": null,
      "outputs": []
    },
    {
      "cell_type": "markdown",
      "metadata": {
        "id": "LjhuHH38cb2g"
      },
      "source": [
        "## Population Random Generation"
      ]
    },
    {
      "cell_type": "code",
      "source": [
        "population = Population(Individual, n_individuals, n_points=n_points, height=height)\n",
        "\n",
        "GeneticAlgorithm(population=population, \n",
        "                 generations=n_generations,\n",
        "                 variable=p_variable)\n"
      ],
      "metadata": {
        "id": "1fcvhcuh4iA0"
      },
      "execution_count": null,
      "outputs": []
    },
    {
      "cell_type": "markdown",
      "source": [
        "# Extra"
      ],
      "metadata": {
        "id": "vqLKV33UQz2V"
      }
    }
  ],
  "metadata": {
    "accelerator": "GPU",
    "colab": {
      "collapsed_sections": [],
      "name": "Single-Objective_Brachistochrone.ipynb",
      "provenance": [],
      "toc_visible": true,
      "include_colab_link": true
    },
    "kernelspec": {
      "display_name": "Python 3",
      "name": "python3"
    },
    "language_info": {
      "name": "python"
    }
  },
  "nbformat": 4,
  "nbformat_minor": 0
}